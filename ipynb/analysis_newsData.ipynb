{
 "cells": [
  {
   "cell_type": "code",
   "execution_count": null,
   "metadata": {},
   "outputs": [],
   "source": [
    "from GoogleNews import GoogleNews\n",
    "# from newspaper import Article\n",
    "import pandas as pd\n",
    "\n",
    "googlenews = GoogleNews(start='24/01/2020', end='23/01/2021')\n",
    "googlenews.search('Domestic violence')\n",
    "result = googlenews.result()\n",
    "df = pd.DataFrame(result)\n",
    "print(df.head())\n",
    "\n",
    "for i in range(2,20):\n",
    "    googlenews.getpage(i)\n",
    "    result = googlenews.result()\n",
    "    df = df.append(result)\n",
    "    df = pd.DataFrame(df)\n"
   ]
  },
  {
   "cell_type": "code",
   "execution_count": null,
   "metadata": {},
   "outputs": [],
   "source": [
    "df.desc[1]"
   ]
  },
  {
   "cell_type": "code",
   "execution_count": null,
   "metadata": {},
   "outputs": [],
   "source": [
    "df.shape"
   ]
  },
  {
   "cell_type": "code",
   "execution_count": null,
   "metadata": {},
   "outputs": [],
   "source": [
    "googlenews = GoogleNews(start='24/01/2020', end='23/01/2021')\n",
    "googlenews.search('Domestic violence')\n",
    "result = googlenews.result()\n",
    "df_test = pd.DataFrame(result)"
   ]
  },
  {
   "cell_type": "code",
   "execution_count": null,
   "metadata": {},
   "outputs": [],
   "source": [
    "df_test.desc[1]"
   ]
  },
  {
   "cell_type": "code",
   "execution_count": null,
   "metadata": {},
   "outputs": [],
   "source": [
    "df_test.link[1]"
   ]
  },
  {
   "cell_type": "code",
   "execution_count": null,
   "metadata": {},
   "outputs": [],
   "source": [
    "googlenews = GoogleNews(start='24/01/2020', end='23/01/2022')\n",
    "googlenews.search('Domestic violence')\n",
    "result = googlenews.result()\n",
    "df = pd.DataFrame(result)"
   ]
  },
  {
   "cell_type": "code",
   "execution_count": null,
   "metadata": {},
   "outputs": [],
   "source": [
    "df.shape"
   ]
  },
  {
   "cell_type": "code",
   "execution_count": null,
   "metadata": {},
   "outputs": [],
   "source": [
    "len(result)"
   ]
  },
  {
   "cell_type": "code",
   "execution_count": null,
   "metadata": {},
   "outputs": [],
   "source": [
    "from GoogleNews import GoogleNews\n",
    "googlenews = GoogleNews()"
   ]
  },
  {
   "cell_type": "code",
   "execution_count": 1,
   "metadata": {},
   "outputs": [],
   "source": [
    "from pygooglenews import GoogleNews\n",
    "import pandas as pd\n"
   ]
  },
  {
   "cell_type": "code",
   "execution_count": 97,
   "metadata": {},
   "outputs": [
    {
     "name": "stdout",
     "output_type": "stream",
     "text": [
      "2022-02-24 AT de Ukraine + Flüchtlinge\n"
     ]
    },
    {
     "name": "stderr",
     "output_type": "stream",
     "text": [
      "/Users/kiliansprenkamp/miniconda3/envs/pygooglenews/lib/python3.8/site-packages/dateparser/date_parser.py:37: PytzUsageWarning: The localize method is no longer necessary, as this time zone supports the fold attribute (PEP 495). For more details on migrating to a PEP 495-compliant implementation, see https://pytz-deprecation-shim.readthedocs.io/en/latest/migration.html\n",
      "  date_obj = stz.localize(date_obj)\n"
     ]
    },
    {
     "name": "stdout",
     "output_type": "stream",
     "text": [
      "2022-02-25 BE nl Ukraine + Vluchtelingen\n"
     ]
    },
    {
     "name": "stderr",
     "output_type": "stream",
     "text": [
      "/Users/kiliansprenkamp/miniconda3/envs/pygooglenews/lib/python3.8/site-packages/dateparser/date_parser.py:37: PytzUsageWarning: The localize method is no longer necessary, as this time zone supports the fold attribute (PEP 495). For more details on migrating to a PEP 495-compliant implementation, see https://pytz-deprecation-shim.readthedocs.io/en/latest/migration.html\n",
      "  date_obj = stz.localize(date_obj)\n",
      "/var/folders/jx/2l7p1chd2l7djbz_8s3s_4z80000gn/T/ipykernel_39478/3092609579.py:59: FutureWarning: In a future version, object-dtype columns with all-bool values will not be included in reductions with bool_only=True. Explicitly cast to bool dtype instead.\n",
      "  df = pd.concat([df, df_current])\n",
      "/Users/kiliansprenkamp/miniconda3/envs/pygooglenews/lib/python3.8/site-packages/dateparser/date_parser.py:37: PytzUsageWarning: The localize method is no longer necessary, as this time zone supports the fold attribute (PEP 495). For more details on migrating to a PEP 495-compliant implementation, see https://pytz-deprecation-shim.readthedocs.io/en/latest/migration.html\n",
      "  date_obj = stz.localize(date_obj)\n"
     ]
    },
    {
     "name": "stdout",
     "output_type": "stream",
     "text": [
      "2022-02-26 BE fr Ukraine + réfugiés\n"
     ]
    },
    {
     "name": "stderr",
     "output_type": "stream",
     "text": [
      "/var/folders/jx/2l7p1chd2l7djbz_8s3s_4z80000gn/T/ipykernel_39478/3092609579.py:59: FutureWarning: In a future version, object-dtype columns with all-bool values will not be included in reductions with bool_only=True. Explicitly cast to bool dtype instead.\n",
      "  df = pd.concat([df, df_current])\n",
      "/Users/kiliansprenkamp/miniconda3/envs/pygooglenews/lib/python3.8/site-packages/dateparser/date_parser.py:37: PytzUsageWarning: The localize method is no longer necessary, as this time zone supports the fold attribute (PEP 495). For more details on migrating to a PEP 495-compliant implementation, see https://pytz-deprecation-shim.readthedocs.io/en/latest/migration.html\n",
      "  date_obj = stz.localize(date_obj)\n"
     ]
    },
    {
     "name": "stdout",
     "output_type": "stream",
     "text": [
      "2022-02-27 BG bg Украйна + бежанци\n"
     ]
    },
    {
     "name": "stderr",
     "output_type": "stream",
     "text": [
      "/var/folders/jx/2l7p1chd2l7djbz_8s3s_4z80000gn/T/ipykernel_39478/3092609579.py:59: FutureWarning: In a future version, object-dtype columns with all-bool values will not be included in reductions with bool_only=True. Explicitly cast to bool dtype instead.\n",
      "  df = pd.concat([df, df_current])\n",
      "/Users/kiliansprenkamp/miniconda3/envs/pygooglenews/lib/python3.8/site-packages/dateparser/date_parser.py:37: PytzUsageWarning: The localize method is no longer necessary, as this time zone supports the fold attribute (PEP 495). For more details on migrating to a PEP 495-compliant implementation, see https://pytz-deprecation-shim.readthedocs.io/en/latest/migration.html\n",
      "  date_obj = stz.localize(date_obj)\n"
     ]
    },
    {
     "name": "stdout",
     "output_type": "stream",
     "text": [
      "2022-02-28 HR hr Ukrajina + izbjeglice\n"
     ]
    },
    {
     "name": "stderr",
     "output_type": "stream",
     "text": [
      "/var/folders/jx/2l7p1chd2l7djbz_8s3s_4z80000gn/T/ipykernel_39478/3092609579.py:59: FutureWarning: In a future version, object-dtype columns with all-bool values will not be included in reductions with bool_only=True. Explicitly cast to bool dtype instead.\n",
      "  df = pd.concat([df, df_current])\n",
      "/Users/kiliansprenkamp/miniconda3/envs/pygooglenews/lib/python3.8/site-packages/dateparser/date_parser.py:37: PytzUsageWarning: The localize method is no longer necessary, as this time zone supports the fold attribute (PEP 495). For more details on migrating to a PEP 495-compliant implementation, see https://pytz-deprecation-shim.readthedocs.io/en/latest/migration.html\n",
      "  date_obj = stz.localize(date_obj)\n"
     ]
    },
    {
     "name": "stdout",
     "output_type": "stream",
     "text": [
      "2022-03-01 CY el Ουκρανία + πρόσφυγες\n"
     ]
    },
    {
     "name": "stderr",
     "output_type": "stream",
     "text": [
      "/var/folders/jx/2l7p1chd2l7djbz_8s3s_4z80000gn/T/ipykernel_39478/3092609579.py:59: FutureWarning: In a future version, object-dtype columns with all-bool values will not be included in reductions with bool_only=True. Explicitly cast to bool dtype instead.\n",
      "  df = pd.concat([df, df_current])\n",
      "/Users/kiliansprenkamp/miniconda3/envs/pygooglenews/lib/python3.8/site-packages/dateparser/date_parser.py:37: PytzUsageWarning: The localize method is no longer necessary, as this time zone supports the fold attribute (PEP 495). For more details on migrating to a PEP 495-compliant implementation, see https://pytz-deprecation-shim.readthedocs.io/en/latest/migration.html\n",
      "  date_obj = stz.localize(date_obj)\n"
     ]
    },
    {
     "name": "stdout",
     "output_type": "stream",
     "text": [
      "2022-03-02 CZ cs Ukrajina + uprchlíci\n"
     ]
    },
    {
     "name": "stderr",
     "output_type": "stream",
     "text": [
      "/var/folders/jx/2l7p1chd2l7djbz_8s3s_4z80000gn/T/ipykernel_39478/3092609579.py:59: FutureWarning: In a future version, object-dtype columns with all-bool values will not be included in reductions with bool_only=True. Explicitly cast to bool dtype instead.\n",
      "  df = pd.concat([df, df_current])\n",
      "/Users/kiliansprenkamp/miniconda3/envs/pygooglenews/lib/python3.8/site-packages/dateparser/date_parser.py:37: PytzUsageWarning: The localize method is no longer necessary, as this time zone supports the fold attribute (PEP 495). For more details on migrating to a PEP 495-compliant implementation, see https://pytz-deprecation-shim.readthedocs.io/en/latest/migration.html\n",
      "  date_obj = stz.localize(date_obj)\n"
     ]
    },
    {
     "name": "stdout",
     "output_type": "stream",
     "text": [
      "2022-03-03 DK da Ukraine + flygtninge\n"
     ]
    },
    {
     "name": "stderr",
     "output_type": "stream",
     "text": [
      "/var/folders/jx/2l7p1chd2l7djbz_8s3s_4z80000gn/T/ipykernel_39478/3092609579.py:59: FutureWarning: In a future version, object-dtype columns with all-bool values will not be included in reductions with bool_only=True. Explicitly cast to bool dtype instead.\n",
      "  df = pd.concat([df, df_current])\n",
      "/Users/kiliansprenkamp/miniconda3/envs/pygooglenews/lib/python3.8/site-packages/dateparser/date_parser.py:37: PytzUsageWarning: The localize method is no longer necessary, as this time zone supports the fold attribute (PEP 495). For more details on migrating to a PEP 495-compliant implementation, see https://pytz-deprecation-shim.readthedocs.io/en/latest/migration.html\n",
      "  date_obj = stz.localize(date_obj)\n"
     ]
    },
    {
     "name": "stdout",
     "output_type": "stream",
     "text": [
      "2022-03-04 EE et Ukraina + põgenikud\n"
     ]
    },
    {
     "name": "stderr",
     "output_type": "stream",
     "text": [
      "/var/folders/jx/2l7p1chd2l7djbz_8s3s_4z80000gn/T/ipykernel_39478/3092609579.py:59: FutureWarning: In a future version, object-dtype columns with all-bool values will not be included in reductions with bool_only=True. Explicitly cast to bool dtype instead.\n",
      "  df = pd.concat([df, df_current])\n",
      "/Users/kiliansprenkamp/miniconda3/envs/pygooglenews/lib/python3.8/site-packages/dateparser/date_parser.py:37: PytzUsageWarning: The localize method is no longer necessary, as this time zone supports the fold attribute (PEP 495). For more details on migrating to a PEP 495-compliant implementation, see https://pytz-deprecation-shim.readthedocs.io/en/latest/migration.html\n",
      "  date_obj = stz.localize(date_obj)\n"
     ]
    },
    {
     "name": "stdout",
     "output_type": "stream",
     "text": [
      "2022-03-05 FI fi Ukraina + pakolaiset\n"
     ]
    },
    {
     "name": "stderr",
     "output_type": "stream",
     "text": [
      "/var/folders/jx/2l7p1chd2l7djbz_8s3s_4z80000gn/T/ipykernel_39478/3092609579.py:59: FutureWarning: In a future version, object-dtype columns with all-bool values will not be included in reductions with bool_only=True. Explicitly cast to bool dtype instead.\n",
      "  df = pd.concat([df, df_current])\n",
      "/Users/kiliansprenkamp/miniconda3/envs/pygooglenews/lib/python3.8/site-packages/dateparser/date_parser.py:37: PytzUsageWarning: The localize method is no longer necessary, as this time zone supports the fold attribute (PEP 495). For more details on migrating to a PEP 495-compliant implementation, see https://pytz-deprecation-shim.readthedocs.io/en/latest/migration.html\n",
      "  date_obj = stz.localize(date_obj)\n"
     ]
    },
    {
     "name": "stdout",
     "output_type": "stream",
     "text": [
      "2022-03-06 FR fr Ukraine + réfugiés\n"
     ]
    },
    {
     "name": "stderr",
     "output_type": "stream",
     "text": [
      "/var/folders/jx/2l7p1chd2l7djbz_8s3s_4z80000gn/T/ipykernel_39478/3092609579.py:59: FutureWarning: In a future version, object-dtype columns with all-bool values will not be included in reductions with bool_only=True. Explicitly cast to bool dtype instead.\n",
      "  df = pd.concat([df, df_current])\n",
      "/Users/kiliansprenkamp/miniconda3/envs/pygooglenews/lib/python3.8/site-packages/dateparser/date_parser.py:37: PytzUsageWarning: The localize method is no longer necessary, as this time zone supports the fold attribute (PEP 495). For more details on migrating to a PEP 495-compliant implementation, see https://pytz-deprecation-shim.readthedocs.io/en/latest/migration.html\n",
      "  date_obj = stz.localize(date_obj)\n"
     ]
    },
    {
     "name": "stdout",
     "output_type": "stream",
     "text": [
      "2022-03-07 DE de Ukraine + Flüchtlinge\n"
     ]
    },
    {
     "name": "stderr",
     "output_type": "stream",
     "text": [
      "/var/folders/jx/2l7p1chd2l7djbz_8s3s_4z80000gn/T/ipykernel_39478/3092609579.py:59: FutureWarning: In a future version, object-dtype columns with all-bool values will not be included in reductions with bool_only=True. Explicitly cast to bool dtype instead.\n",
      "  df = pd.concat([df, df_current])\n",
      "/Users/kiliansprenkamp/miniconda3/envs/pygooglenews/lib/python3.8/site-packages/dateparser/date_parser.py:37: PytzUsageWarning: The localize method is no longer necessary, as this time zone supports the fold attribute (PEP 495). For more details on migrating to a PEP 495-compliant implementation, see https://pytz-deprecation-shim.readthedocs.io/en/latest/migration.html\n",
      "  date_obj = stz.localize(date_obj)\n"
     ]
    },
    {
     "name": "stdout",
     "output_type": "stream",
     "text": [
      "2022-03-08 GR el Ουκρανία + πρόσφυγες\n"
     ]
    },
    {
     "name": "stderr",
     "output_type": "stream",
     "text": [
      "/var/folders/jx/2l7p1chd2l7djbz_8s3s_4z80000gn/T/ipykernel_39478/3092609579.py:59: FutureWarning: In a future version, object-dtype columns with all-bool values will not be included in reductions with bool_only=True. Explicitly cast to bool dtype instead.\n",
      "  df = pd.concat([df, df_current])\n",
      "/Users/kiliansprenkamp/miniconda3/envs/pygooglenews/lib/python3.8/site-packages/dateparser/date_parser.py:37: PytzUsageWarning: The localize method is no longer necessary, as this time zone supports the fold attribute (PEP 495). For more details on migrating to a PEP 495-compliant implementation, see https://pytz-deprecation-shim.readthedocs.io/en/latest/migration.html\n",
      "  date_obj = stz.localize(date_obj)\n"
     ]
    },
    {
     "name": "stdout",
     "output_type": "stream",
     "text": [
      "2022-03-09 HU hu Ukrajna + menekültek\n"
     ]
    },
    {
     "name": "stderr",
     "output_type": "stream",
     "text": [
      "/var/folders/jx/2l7p1chd2l7djbz_8s3s_4z80000gn/T/ipykernel_39478/3092609579.py:59: FutureWarning: In a future version, object-dtype columns with all-bool values will not be included in reductions with bool_only=True. Explicitly cast to bool dtype instead.\n",
      "  df = pd.concat([df, df_current])\n",
      "/Users/kiliansprenkamp/miniconda3/envs/pygooglenews/lib/python3.8/site-packages/dateparser/date_parser.py:37: PytzUsageWarning: The localize method is no longer necessary, as this time zone supports the fold attribute (PEP 495). For more details on migrating to a PEP 495-compliant implementation, see https://pytz-deprecation-shim.readthedocs.io/en/latest/migration.html\n",
      "  date_obj = stz.localize(date_obj)\n"
     ]
    },
    {
     "name": "stdout",
     "output_type": "stream",
     "text": [
      "2022-03-10 IE en Ukraine + refugees\n"
     ]
    },
    {
     "name": "stderr",
     "output_type": "stream",
     "text": [
      "/var/folders/jx/2l7p1chd2l7djbz_8s3s_4z80000gn/T/ipykernel_39478/3092609579.py:59: FutureWarning: In a future version, object-dtype columns with all-bool values will not be included in reductions with bool_only=True. Explicitly cast to bool dtype instead.\n",
      "  df = pd.concat([df, df_current])\n",
      "/Users/kiliansprenkamp/miniconda3/envs/pygooglenews/lib/python3.8/site-packages/dateparser/date_parser.py:37: PytzUsageWarning: The localize method is no longer necessary, as this time zone supports the fold attribute (PEP 495). For more details on migrating to a PEP 495-compliant implementation, see https://pytz-deprecation-shim.readthedocs.io/en/latest/migration.html\n",
      "  date_obj = stz.localize(date_obj)\n"
     ]
    },
    {
     "name": "stdout",
     "output_type": "stream",
     "text": [
      "2022-03-11 IT it Ucraina + rifugiati\n"
     ]
    },
    {
     "name": "stderr",
     "output_type": "stream",
     "text": [
      "/var/folders/jx/2l7p1chd2l7djbz_8s3s_4z80000gn/T/ipykernel_39478/3092609579.py:59: FutureWarning: In a future version, object-dtype columns with all-bool values will not be included in reductions with bool_only=True. Explicitly cast to bool dtype instead.\n",
      "  df = pd.concat([df, df_current])\n",
      "/Users/kiliansprenkamp/miniconda3/envs/pygooglenews/lib/python3.8/site-packages/dateparser/date_parser.py:37: PytzUsageWarning: The localize method is no longer necessary, as this time zone supports the fold attribute (PEP 495). For more details on migrating to a PEP 495-compliant implementation, see https://pytz-deprecation-shim.readthedocs.io/en/latest/migration.html\n",
      "  date_obj = stz.localize(date_obj)\n"
     ]
    },
    {
     "name": "stdout",
     "output_type": "stream",
     "text": [
      "2022-03-12 LV lv Ukraina + bēgļi\n"
     ]
    },
    {
     "name": "stderr",
     "output_type": "stream",
     "text": [
      "/var/folders/jx/2l7p1chd2l7djbz_8s3s_4z80000gn/T/ipykernel_39478/3092609579.py:59: FutureWarning: In a future version, object-dtype columns with all-bool values will not be included in reductions with bool_only=True. Explicitly cast to bool dtype instead.\n",
      "  df = pd.concat([df, df_current])\n",
      "/Users/kiliansprenkamp/miniconda3/envs/pygooglenews/lib/python3.8/site-packages/dateparser/date_parser.py:37: PytzUsageWarning: The localize method is no longer necessary, as this time zone supports the fold attribute (PEP 495). For more details on migrating to a PEP 495-compliant implementation, see https://pytz-deprecation-shim.readthedocs.io/en/latest/migration.html\n",
      "  date_obj = stz.localize(date_obj)\n"
     ]
    },
    {
     "name": "stdout",
     "output_type": "stream",
     "text": [
      "2022-03-13 LT lt Ukraina + pabėgėliai\n"
     ]
    },
    {
     "name": "stderr",
     "output_type": "stream",
     "text": [
      "/var/folders/jx/2l7p1chd2l7djbz_8s3s_4z80000gn/T/ipykernel_39478/3092609579.py:59: FutureWarning: In a future version, object-dtype columns with all-bool values will not be included in reductions with bool_only=True. Explicitly cast to bool dtype instead.\n",
      "  df = pd.concat([df, df_current])\n",
      "/Users/kiliansprenkamp/miniconda3/envs/pygooglenews/lib/python3.8/site-packages/dateparser/date_parser.py:37: PytzUsageWarning: The localize method is no longer necessary, as this time zone supports the fold attribute (PEP 495). For more details on migrating to a PEP 495-compliant implementation, see https://pytz-deprecation-shim.readthedocs.io/en/latest/migration.html\n",
      "  date_obj = stz.localize(date_obj)\n"
     ]
    },
    {
     "name": "stdout",
     "output_type": "stream",
     "text": [
      "2022-03-14 LU fr Ukraine + Flüchtlinge\n"
     ]
    },
    {
     "name": "stderr",
     "output_type": "stream",
     "text": [
      "/var/folders/jx/2l7p1chd2l7djbz_8s3s_4z80000gn/T/ipykernel_39478/3092609579.py:59: FutureWarning: In a future version, object-dtype columns with all-bool values will not be included in reductions with bool_only=True. Explicitly cast to bool dtype instead.\n",
      "  df = pd.concat([df, df_current])\n",
      "/Users/kiliansprenkamp/miniconda3/envs/pygooglenews/lib/python3.8/site-packages/dateparser/date_parser.py:37: PytzUsageWarning: The localize method is no longer necessary, as this time zone supports the fold attribute (PEP 495). For more details on migrating to a PEP 495-compliant implementation, see https://pytz-deprecation-shim.readthedocs.io/en/latest/migration.html\n",
      "  date_obj = stz.localize(date_obj)\n"
     ]
    },
    {
     "name": "stdout",
     "output_type": "stream",
     "text": [
      "2022-03-15 LU de Ukraine + Flüchtlinge\n"
     ]
    },
    {
     "name": "stderr",
     "output_type": "stream",
     "text": [
      "/var/folders/jx/2l7p1chd2l7djbz_8s3s_4z80000gn/T/ipykernel_39478/3092609579.py:59: FutureWarning: In a future version, object-dtype columns with all-bool values will not be included in reductions with bool_only=True. Explicitly cast to bool dtype instead.\n",
      "  df = pd.concat([df, df_current])\n",
      "/Users/kiliansprenkamp/miniconda3/envs/pygooglenews/lib/python3.8/site-packages/dateparser/date_parser.py:37: PytzUsageWarning: The localize method is no longer necessary, as this time zone supports the fold attribute (PEP 495). For more details on migrating to a PEP 495-compliant implementation, see https://pytz-deprecation-shim.readthedocs.io/en/latest/migration.html\n",
      "  date_obj = stz.localize(date_obj)\n"
     ]
    },
    {
     "name": "stdout",
     "output_type": "stream",
     "text": [
      "2022-03-16 NL nl Ukraine + vluchtelingen\n"
     ]
    },
    {
     "name": "stderr",
     "output_type": "stream",
     "text": [
      "/var/folders/jx/2l7p1chd2l7djbz_8s3s_4z80000gn/T/ipykernel_39478/3092609579.py:59: FutureWarning: In a future version, object-dtype columns with all-bool values will not be included in reductions with bool_only=True. Explicitly cast to bool dtype instead.\n",
      "  df = pd.concat([df, df_current])\n",
      "/Users/kiliansprenkamp/miniconda3/envs/pygooglenews/lib/python3.8/site-packages/dateparser/date_parser.py:37: PytzUsageWarning: The localize method is no longer necessary, as this time zone supports the fold attribute (PEP 495). For more details on migrating to a PEP 495-compliant implementation, see https://pytz-deprecation-shim.readthedocs.io/en/latest/migration.html\n",
      "  date_obj = stz.localize(date_obj)\n"
     ]
    },
    {
     "name": "stdout",
     "output_type": "stream",
     "text": [
      "2022-03-17 PL pl Ukraina + uchodźcy\n"
     ]
    },
    {
     "name": "stderr",
     "output_type": "stream",
     "text": [
      "/var/folders/jx/2l7p1chd2l7djbz_8s3s_4z80000gn/T/ipykernel_39478/3092609579.py:59: FutureWarning: In a future version, object-dtype columns with all-bool values will not be included in reductions with bool_only=True. Explicitly cast to bool dtype instead.\n",
      "  df = pd.concat([df, df_current])\n",
      "/Users/kiliansprenkamp/miniconda3/envs/pygooglenews/lib/python3.8/site-packages/dateparser/date_parser.py:37: PytzUsageWarning: The localize method is no longer necessary, as this time zone supports the fold attribute (PEP 495). For more details on migrating to a PEP 495-compliant implementation, see https://pytz-deprecation-shim.readthedocs.io/en/latest/migration.html\n",
      "  date_obj = stz.localize(date_obj)\n"
     ]
    },
    {
     "name": "stdout",
     "output_type": "stream",
     "text": [
      "2022-03-18 PT pt Ucrânia + refugiados\n"
     ]
    },
    {
     "name": "stderr",
     "output_type": "stream",
     "text": [
      "/var/folders/jx/2l7p1chd2l7djbz_8s3s_4z80000gn/T/ipykernel_39478/3092609579.py:59: FutureWarning: In a future version, object-dtype columns with all-bool values will not be included in reductions with bool_only=True. Explicitly cast to bool dtype instead.\n",
      "  df = pd.concat([df, df_current])\n",
      "/Users/kiliansprenkamp/miniconda3/envs/pygooglenews/lib/python3.8/site-packages/dateparser/date_parser.py:37: PytzUsageWarning: The localize method is no longer necessary, as this time zone supports the fold attribute (PEP 495). For more details on migrating to a PEP 495-compliant implementation, see https://pytz-deprecation-shim.readthedocs.io/en/latest/migration.html\n",
      "  date_obj = stz.localize(date_obj)\n"
     ]
    },
    {
     "name": "stdout",
     "output_type": "stream",
     "text": [
      "2022-03-19 RO ro Ucraina + refugiați\n"
     ]
    },
    {
     "name": "stderr",
     "output_type": "stream",
     "text": [
      "/var/folders/jx/2l7p1chd2l7djbz_8s3s_4z80000gn/T/ipykernel_39478/3092609579.py:59: FutureWarning: In a future version, object-dtype columns with all-bool values will not be included in reductions with bool_only=True. Explicitly cast to bool dtype instead.\n",
      "  df = pd.concat([df, df_current])\n",
      "/Users/kiliansprenkamp/miniconda3/envs/pygooglenews/lib/python3.8/site-packages/dateparser/date_parser.py:37: PytzUsageWarning: The localize method is no longer necessary, as this time zone supports the fold attribute (PEP 495). For more details on migrating to a PEP 495-compliant implementation, see https://pytz-deprecation-shim.readthedocs.io/en/latest/migration.html\n",
      "  date_obj = stz.localize(date_obj)\n"
     ]
    },
    {
     "name": "stdout",
     "output_type": "stream",
     "text": [
      "2022-03-20 SK sk Ukrajina + utečenci\n"
     ]
    },
    {
     "name": "stderr",
     "output_type": "stream",
     "text": [
      "/var/folders/jx/2l7p1chd2l7djbz_8s3s_4z80000gn/T/ipykernel_39478/3092609579.py:59: FutureWarning: In a future version, object-dtype columns with all-bool values will not be included in reductions with bool_only=True. Explicitly cast to bool dtype instead.\n",
      "  df = pd.concat([df, df_current])\n",
      "/Users/kiliansprenkamp/miniconda3/envs/pygooglenews/lib/python3.8/site-packages/dateparser/date_parser.py:37: PytzUsageWarning: The localize method is no longer necessary, as this time zone supports the fold attribute (PEP 495). For more details on migrating to a PEP 495-compliant implementation, see https://pytz-deprecation-shim.readthedocs.io/en/latest/migration.html\n",
      "  date_obj = stz.localize(date_obj)\n"
     ]
    },
    {
     "name": "stdout",
     "output_type": "stream",
     "text": [
      "2022-03-21 SI sl Ukrajina + begunci\n"
     ]
    },
    {
     "name": "stderr",
     "output_type": "stream",
     "text": [
      "/var/folders/jx/2l7p1chd2l7djbz_8s3s_4z80000gn/T/ipykernel_39478/3092609579.py:59: FutureWarning: In a future version, object-dtype columns with all-bool values will not be included in reductions with bool_only=True. Explicitly cast to bool dtype instead.\n",
      "  df = pd.concat([df, df_current])\n",
      "/Users/kiliansprenkamp/miniconda3/envs/pygooglenews/lib/python3.8/site-packages/dateparser/date_parser.py:37: PytzUsageWarning: The localize method is no longer necessary, as this time zone supports the fold attribute (PEP 495). For more details on migrating to a PEP 495-compliant implementation, see https://pytz-deprecation-shim.readthedocs.io/en/latest/migration.html\n",
      "  date_obj = stz.localize(date_obj)\n"
     ]
    },
    {
     "name": "stdout",
     "output_type": "stream",
     "text": [
      "2022-03-22 ES es Ucrania + refugiados\n"
     ]
    },
    {
     "name": "stderr",
     "output_type": "stream",
     "text": [
      "/var/folders/jx/2l7p1chd2l7djbz_8s3s_4z80000gn/T/ipykernel_39478/3092609579.py:59: FutureWarning: In a future version, object-dtype columns with all-bool values will not be included in reductions with bool_only=True. Explicitly cast to bool dtype instead.\n",
      "  df = pd.concat([df, df_current])\n",
      "/Users/kiliansprenkamp/miniconda3/envs/pygooglenews/lib/python3.8/site-packages/dateparser/date_parser.py:37: PytzUsageWarning: The localize method is no longer necessary, as this time zone supports the fold attribute (PEP 495). For more details on migrating to a PEP 495-compliant implementation, see https://pytz-deprecation-shim.readthedocs.io/en/latest/migration.html\n",
      "  date_obj = stz.localize(date_obj)\n"
     ]
    },
    {
     "name": "stdout",
     "output_type": "stream",
     "text": [
      "2022-03-23 SE sv Ukraine + flyktingar\n"
     ]
    },
    {
     "name": "stderr",
     "output_type": "stream",
     "text": [
      "/var/folders/jx/2l7p1chd2l7djbz_8s3s_4z80000gn/T/ipykernel_39478/3092609579.py:59: FutureWarning: In a future version, object-dtype columns with all-bool values will not be included in reductions with bool_only=True. Explicitly cast to bool dtype instead.\n",
      "  df = pd.concat([df, df_current])\n",
      "/Users/kiliansprenkamp/miniconda3/envs/pygooglenews/lib/python3.8/site-packages/dateparser/date_parser.py:37: PytzUsageWarning: The localize method is no longer necessary, as this time zone supports the fold attribute (PEP 495). For more details on migrating to a PEP 495-compliant implementation, see https://pytz-deprecation-shim.readthedocs.io/en/latest/migration.html\n",
      "  date_obj = stz.localize(date_obj)\n"
     ]
    },
    {
     "name": "stdout",
     "output_type": "stream",
     "text": [
      "2022-03-24 CH de Ukraine + Flüchtlinge\n"
     ]
    },
    {
     "name": "stderr",
     "output_type": "stream",
     "text": [
      "/var/folders/jx/2l7p1chd2l7djbz_8s3s_4z80000gn/T/ipykernel_39478/3092609579.py:59: FutureWarning: In a future version, object-dtype columns with all-bool values will not be included in reductions with bool_only=True. Explicitly cast to bool dtype instead.\n",
      "  df = pd.concat([df, df_current])\n",
      "/Users/kiliansprenkamp/miniconda3/envs/pygooglenews/lib/python3.8/site-packages/dateparser/date_parser.py:37: PytzUsageWarning: The localize method is no longer necessary, as this time zone supports the fold attribute (PEP 495). For more details on migrating to a PEP 495-compliant implementation, see https://pytz-deprecation-shim.readthedocs.io/en/latest/migration.html\n",
      "  date_obj = stz.localize(date_obj)\n"
     ]
    },
    {
     "name": "stdout",
     "output_type": "stream",
     "text": [
      "2022-03-25 CH fr Ukraine + réfugiés\n"
     ]
    },
    {
     "name": "stderr",
     "output_type": "stream",
     "text": [
      "/var/folders/jx/2l7p1chd2l7djbz_8s3s_4z80000gn/T/ipykernel_39478/3092609579.py:59: FutureWarning: In a future version, object-dtype columns with all-bool values will not be included in reductions with bool_only=True. Explicitly cast to bool dtype instead.\n",
      "  df = pd.concat([df, df_current])\n",
      "/Users/kiliansprenkamp/miniconda3/envs/pygooglenews/lib/python3.8/site-packages/dateparser/date_parser.py:37: PytzUsageWarning: The localize method is no longer necessary, as this time zone supports the fold attribute (PEP 495). For more details on migrating to a PEP 495-compliant implementation, see https://pytz-deprecation-shim.readthedocs.io/en/latest/migration.html\n",
      "  date_obj = stz.localize(date_obj)\n"
     ]
    },
    {
     "name": "stdout",
     "output_type": "stream",
     "text": [
      "2022-03-26 CH it Ucraina + rifugiati\n"
     ]
    },
    {
     "name": "stderr",
     "output_type": "stream",
     "text": [
      "/var/folders/jx/2l7p1chd2l7djbz_8s3s_4z80000gn/T/ipykernel_39478/3092609579.py:59: FutureWarning: In a future version, object-dtype columns with all-bool values will not be included in reductions with bool_only=True. Explicitly cast to bool dtype instead.\n",
      "  df = pd.concat([df, df_current])\n",
      "/Users/kiliansprenkamp/miniconda3/envs/pygooglenews/lib/python3.8/site-packages/dateparser/date_parser.py:37: PytzUsageWarning: The localize method is no longer necessary, as this time zone supports the fold attribute (PEP 495). For more details on migrating to a PEP 495-compliant implementation, see https://pytz-deprecation-shim.readthedocs.io/en/latest/migration.html\n",
      "  date_obj = stz.localize(date_obj)\n"
     ]
    },
    {
     "name": "stdout",
     "output_type": "stream",
     "text": [
      "2022-03-27 NO no Ukraine + flyktninger\n"
     ]
    },
    {
     "name": "stderr",
     "output_type": "stream",
     "text": [
      "/var/folders/jx/2l7p1chd2l7djbz_8s3s_4z80000gn/T/ipykernel_39478/3092609579.py:59: FutureWarning: In a future version, object-dtype columns with all-bool values will not be included in reductions with bool_only=True. Explicitly cast to bool dtype instead.\n",
      "  df = pd.concat([df, df_current])\n",
      "/Users/kiliansprenkamp/miniconda3/envs/pygooglenews/lib/python3.8/site-packages/dateparser/date_parser.py:37: PytzUsageWarning: The localize method is no longer necessary, as this time zone supports the fold attribute (PEP 495). For more details on migrating to a PEP 495-compliant implementation, see https://pytz-deprecation-shim.readthedocs.io/en/latest/migration.html\n",
      "  date_obj = stz.localize(date_obj)\n"
     ]
    },
    {
     "name": "stdout",
     "output_type": "stream",
     "text": [
      "2022-03-28 GB en Ukraine + refugees\n"
     ]
    },
    {
     "name": "stderr",
     "output_type": "stream",
     "text": [
      "/var/folders/jx/2l7p1chd2l7djbz_8s3s_4z80000gn/T/ipykernel_39478/3092609579.py:59: FutureWarning: In a future version, object-dtype columns with all-bool values will not be included in reductions with bool_only=True. Explicitly cast to bool dtype instead.\n",
      "  df = pd.concat([df, df_current])\n",
      "/Users/kiliansprenkamp/miniconda3/envs/pygooglenews/lib/python3.8/site-packages/dateparser/date_parser.py:37: PytzUsageWarning: The localize method is no longer necessary, as this time zone supports the fold attribute (PEP 495). For more details on migrating to a PEP 495-compliant implementation, see https://pytz-deprecation-shim.readthedocs.io/en/latest/migration.html\n",
      "  date_obj = stz.localize(date_obj)\n"
     ]
    },
    {
     "name": "stdout",
     "output_type": "stream",
     "text": [
      "2022-03-29 LI de Ukraine + Flüchtlinge\n"
     ]
    },
    {
     "name": "stderr",
     "output_type": "stream",
     "text": [
      "/var/folders/jx/2l7p1chd2l7djbz_8s3s_4z80000gn/T/ipykernel_39478/3092609579.py:59: FutureWarning: In a future version, object-dtype columns with all-bool values will not be included in reductions with bool_only=True. Explicitly cast to bool dtype instead.\n",
      "  df = pd.concat([df, df_current])\n",
      "/Users/kiliansprenkamp/miniconda3/envs/pygooglenews/lib/python3.8/site-packages/dateparser/date_parser.py:37: PytzUsageWarning: The localize method is no longer necessary, as this time zone supports the fold attribute (PEP 495). For more details on migrating to a PEP 495-compliant implementation, see https://pytz-deprecation-shim.readthedocs.io/en/latest/migration.html\n",
      "  date_obj = stz.localize(date_obj)\n"
     ]
    },
    {
     "name": "stdout",
     "output_type": "stream",
     "text": [
      "2022-03-30 IS is Úkraína + flóttamenn\n"
     ]
    },
    {
     "name": "stderr",
     "output_type": "stream",
     "text": [
      "/var/folders/jx/2l7p1chd2l7djbz_8s3s_4z80000gn/T/ipykernel_39478/3092609579.py:59: FutureWarning: In a future version, object-dtype columns with all-bool values will not be included in reductions with bool_only=True. Explicitly cast to bool dtype instead.\n",
      "  df = pd.concat([df, df_current])\n",
      "/Users/kiliansprenkamp/miniconda3/envs/pygooglenews/lib/python3.8/site-packages/dateparser/date_parser.py:37: PytzUsageWarning: The localize method is no longer necessary, as this time zone supports the fold attribute (PEP 495). For more details on migrating to a PEP 495-compliant implementation, see https://pytz-deprecation-shim.readthedocs.io/en/latest/migration.html\n",
      "  date_obj = stz.localize(date_obj)\n"
     ]
    },
    {
     "name": "stdout",
     "output_type": "stream",
     "text": [
      "2022-03-31 MD ro Ucraina + refugiați\n"
     ]
    },
    {
     "name": "stderr",
     "output_type": "stream",
     "text": [
      "/var/folders/jx/2l7p1chd2l7djbz_8s3s_4z80000gn/T/ipykernel_39478/3092609579.py:59: FutureWarning: In a future version, object-dtype columns with all-bool values will not be included in reductions with bool_only=True. Explicitly cast to bool dtype instead.\n",
      "  df = pd.concat([df, df_current])\n",
      "/Users/kiliansprenkamp/miniconda3/envs/pygooglenews/lib/python3.8/site-packages/dateparser/date_parser.py:37: PytzUsageWarning: The localize method is no longer necessary, as this time zone supports the fold attribute (PEP 495). For more details on migrating to a PEP 495-compliant implementation, see https://pytz-deprecation-shim.readthedocs.io/en/latest/migration.html\n",
      "  date_obj = stz.localize(date_obj)\n"
     ]
    },
    {
     "name": "stdout",
     "output_type": "stream",
     "text": [
      "2022-04-01 UA uk Україна + біженці\n"
     ]
    },
    {
     "name": "stderr",
     "output_type": "stream",
     "text": [
      "/var/folders/jx/2l7p1chd2l7djbz_8s3s_4z80000gn/T/ipykernel_39478/3092609579.py:59: FutureWarning: In a future version, object-dtype columns with all-bool values will not be included in reductions with bool_only=True. Explicitly cast to bool dtype instead.\n",
      "  df = pd.concat([df, df_current])\n"
     ]
    }
   ],
   "source": [
    "from datetime import date, timedelta\n",
    "\n",
    "countries = {\n",
    "    \"AT\": {\"de\": \"Ukraine + Flüchtlinge\"}, #Austria\n",
    "    \"BE\": {\"nl\": \"Ukraine + Vluchtelingen\", \"fr\": \"Ukraine + réfugiés\"}, #Belgium\n",
    "    \"BG\": {\"bg\": \"Украйна + бежанци\"}, #Bulgaria\n",
    "    \"HR\": {\"hr\": \"Ukrajina + izbjeglice\"}, #Croatia\n",
    "    \"CY\": {\"el\": \"Ουκρανία + πρόσφυγες\"}, #Cyprus\n",
    "    \"CZ\": {\"cs\": \"Ukrajina + uprchlíci\"}, #Czechia\n",
    "    \"DK\": {\"da\": \"Ukraine + flygtninge\"}, #Denmark\n",
    "    \"EE\": {\"et\": \"Ukraina + põgenikud\"}, #Estonia\n",
    "    \"FI\": {\"fi\": \"Ukraina + pakolaiset\"}, #Finland\n",
    "    \"FR\": {\"fr\": \"Ukraine + réfugiés\"}, #France\n",
    "    \"DE\": {\"de\": \"Ukraine + Flüchtlinge\"}, #Germany\n",
    "    \"GR\": {\"el\": \"Ουκρανία + πρόσφυγες\"}, #Greece\n",
    "    \"HU\": {\"hu\": \"Ukrajna + menekültek\"}, #Hungary\n",
    "    \"IE\": {\"en\": \"Ukraine + refugees\"}, #Ireland\n",
    "    \"IT\": {\"it\": \"Ucraina + rifugiati\"}, #Italy\n",
    "    \"LV\": {\"lv\": \"Ukraina + bēgļi\"}, #Latvia\n",
    "    \"LT\": {\"lt\": \"Ukraina + pabėgėliai\"}, #Lithuania\n",
    "    \"LU\": {\"fr\": \"Ukraine + Flüchtlinge\", \"de\": \"Ukraine + Flüchtlinge\"}, #Luxembourg\n",
    "    \"NL\": {\"nl\": \"Ukraine + vluchtelingen\"}, #Netherlands\n",
    "    \"PL\": {\"pl\": \"Ukraina + uchodźcy\"}, #Poland\n",
    "    \"PT\": {\"pt\": \"Ucrânia + refugiados\"}, #Portugal\n",
    "    \"RO\": {\"ro\": \"Ucraina + refugiați\"}, #Romania\n",
    "    \"SK\": {\"sk\": \"Ukrajina + utečenci\"}, #Slovakia\n",
    "    \"SI\": {\"sl\": \"Ukrajina + begunci\"}, #Slovenia\n",
    "    \"ES\": {\"es\": \"Ucrania + refugiados\"}, #Spain\n",
    "    \"SE\": {\"sv\": \"Ukraine + flyktingar\"}, #Sweden\n",
    "    \"CH\": {\"de\": \"Ukraine + Flüchtlinge\", \"fr\": \"Ukraine + réfugiés\", \"it\": \"Ucraina + rifugiati\"}, #Switzerland\n",
    "    \"NO\": {\"no\": \"Ukraine + flyktninger\"}, #Norway\n",
    "    \"GB\": {\"en\": \"Ukraine + refugees\"}, #United Kingdom\n",
    "    \"LI\": {\"de\": \"Ukraine + Flüchtlinge\"}, # Liechtenstein\n",
    "    \"IS\": {\"is\": \"Úkraína + flóttamenn\"}, # Iceland\n",
    "    \"MD\": {\"ro\": \"Ucraina + refugiați\"}, # Moldova\n",
    "    \"UA\": {\"uk\": \"Україна + біженці\"} # Ukraine\n",
    "}\n",
    "\n",
    "# Create a date range from January 1, 2021 to January 31, 2021\n",
    "start_date = date(2022, 2, 24)\n",
    "end_date = date(2022, 2, 25)\n",
    "delta = timedelta(days=1)\n",
    "\n",
    "df = pd.DataFrame(columns=['title', 'title_detail', 'links', 'link', 'id', 'guidislink',\n",
    "       'published', 'published_parsed', 'summary', 'summary_detail', 'source',\n",
    "       'sub_articles', 'alpha2_country_code' 'language_code'])\n",
    "\n",
    "# Loop over each day in the date range\n",
    "current_date = start_date\n",
    "while current_date <= end_date:\n",
    "       for key_country in countries:\n",
    "              for key_language in countries[key_country]:\n",
    "                     print(current_date, key_country, key_language, countries[key_country][key_language])\n",
    "                     gn = GoogleNews(country = key_country, lang = key_language)\n",
    "                     current_date_plus_one = current_date + delta\n",
    "                     search = gn.search(countries[key_country][key_language], from_=str(current_date), to_=str(current_date_plus_one))\n",
    "                     df_current = pd.DataFrame(search['entries'])\n",
    "                     df_current['alpha2_code'] = key_country\n",
    "                     df_current['language_code'] = key_language\n",
    "                     df = pd.concat([df, df_current])\n",
    "                     current_date += delta"
   ]
  },
  {
   "cell_type": "code",
   "execution_count": 95,
   "metadata": {},
   "outputs": [
    {
     "ename": "AttributeError",
     "evalue": "'dict_keys' object has no attribute 'tostring'",
     "output_type": "error",
     "traceback": [
      "\u001b[0;31m---------------------------------------------------------------------------\u001b[0m",
      "\u001b[0;31mAttributeError\u001b[0m                            Traceback (most recent call last)",
      "Cell \u001b[0;32mIn[95], line 1\u001b[0m\n\u001b[0;32m----> 1\u001b[0m countries[\u001b[39m\"\u001b[39;49m\u001b[39mNL\u001b[39;49m\u001b[39m\"\u001b[39;49m]\u001b[39m.\u001b[39;49mkeys()\u001b[39m.\u001b[39;49mtostring()\n",
      "\u001b[0;31mAttributeError\u001b[0m: 'dict_keys' object has no attribute 'tostring'"
     ]
    }
   ],
   "source": [
    "countries[\"NL\"].keys().tostring()"
   ]
  },
  {
   "cell_type": "code",
   "execution_count": 98,
   "metadata": {},
   "outputs": [
    {
     "data": {
      "text/html": [
       "<div>\n",
       "<style scoped>\n",
       "    .dataframe tbody tr th:only-of-type {\n",
       "        vertical-align: middle;\n",
       "    }\n",
       "\n",
       "    .dataframe tbody tr th {\n",
       "        vertical-align: top;\n",
       "    }\n",
       "\n",
       "    .dataframe thead th {\n",
       "        text-align: right;\n",
       "    }\n",
       "</style>\n",
       "<table border=\"1\" class=\"dataframe\">\n",
       "  <thead>\n",
       "    <tr style=\"text-align: right;\">\n",
       "      <th></th>\n",
       "      <th>title</th>\n",
       "      <th>title_detail</th>\n",
       "      <th>links</th>\n",
       "      <th>link</th>\n",
       "      <th>id</th>\n",
       "      <th>guidislink</th>\n",
       "      <th>published</th>\n",
       "      <th>published_parsed</th>\n",
       "      <th>summary</th>\n",
       "      <th>summary_detail</th>\n",
       "      <th>source</th>\n",
       "      <th>sub_articles</th>\n",
       "      <th>alpha2_code</th>\n",
       "    </tr>\n",
       "  </thead>\n",
       "  <tbody>\n",
       "    <tr>\n",
       "      <th>0</th>\n",
       "      <td>Ukrainische Flüchtlinge: Was an den Nachbarsgr...</td>\n",
       "      <td>{'type': 'text/plain', 'language': None, 'base...</td>\n",
       "      <td>[{'rel': 'alternate', 'type': 'text/html', 'hr...</td>\n",
       "      <td>https://news.google.com/__i/rss/rd/articles/CB...</td>\n",
       "      <td>CBMiZ2h0dHBzOi8va3VyaWVyLmF0L3BvbGl0aWsvYXVzbG...</td>\n",
       "      <td>False</td>\n",
       "      <td>Thu, 24 Feb 2022 08:00:00 GMT</td>\n",
       "      <td>(2022, 2, 24, 8, 0, 0, 3, 55, 0)</td>\n",
       "      <td>&lt;a href=\"https://news.google.com/__i/rss/rd/ar...</td>\n",
       "      <td>{'type': 'text/html', 'language': None, 'base'...</td>\n",
       "      <td>{'href': 'https://kurier.at', 'title': 'KURIER'}</td>\n",
       "      <td>[]</td>\n",
       "      <td>AT</td>\n",
       "    </tr>\n",
       "    <tr>\n",
       "      <th>1</th>\n",
       "      <td>Krieg in der Ukraine: Deutschland zur Aufnahme...</td>\n",
       "      <td>{'type': 'text/plain', 'language': None, 'base...</td>\n",
       "      <td>[{'rel': 'alternate', 'type': 'text/html', 'hr...</td>\n",
       "      <td>https://news.google.com/__i/rss/rd/articles/CB...</td>\n",
       "      <td>CBMidWh0dHBzOi8vd3d3LmZhei5uZXQvYWt0dWVsbC9wb2...</td>\n",
       "      <td>False</td>\n",
       "      <td>Thu, 24 Feb 2022 08:00:00 GMT</td>\n",
       "      <td>(2022, 2, 24, 8, 0, 0, 3, 55, 0)</td>\n",
       "      <td>&lt;a href=\"https://news.google.com/__i/rss/rd/ar...</td>\n",
       "      <td>{'type': 'text/html', 'language': None, 'base'...</td>\n",
       "      <td>{'href': 'https://www.faz.net', 'title': 'FAZ ...</td>\n",
       "      <td>[]</td>\n",
       "      <td>AT</td>\n",
       "    </tr>\n",
       "    <tr>\n",
       "      <th>2</th>\n",
       "      <td>Krieg in der Ukraine: Wie sich Deutschland auf...</td>\n",
       "      <td>{'type': 'text/plain', 'language': None, 'base...</td>\n",
       "      <td>[{'rel': 'alternate', 'type': 'text/html', 'hr...</td>\n",
       "      <td>https://news.google.com/__i/rss/rd/articles/CB...</td>\n",
       "      <td>CBMigQFodHRwczovL3d3dy5ybmQuZGUvcG9saXRpay9rcm...</td>\n",
       "      <td>False</td>\n",
       "      <td>Thu, 24 Feb 2022 08:00:00 GMT</td>\n",
       "      <td>(2022, 2, 24, 8, 0, 0, 3, 55, 0)</td>\n",
       "      <td>&lt;a href=\"https://news.google.com/__i/rss/rd/ar...</td>\n",
       "      <td>{'type': 'text/html', 'language': None, 'base'...</td>\n",
       "      <td>{'href': 'https://www.rnd.de', 'title': 'RND'}</td>\n",
       "      <td>[]</td>\n",
       "      <td>AT</td>\n",
       "    </tr>\n",
       "    <tr>\n",
       "      <th>3</th>\n",
       "      <td>Ukraine-Krieg: Deutschland stellt sich auf Flü...</td>\n",
       "      <td>{'type': 'text/plain', 'language': None, 'base...</td>\n",
       "      <td>[{'rel': 'alternate', 'type': 'text/html', 'hr...</td>\n",
       "      <td>https://news.google.com/__i/rss/rd/articles/CB...</td>\n",
       "      <td>CBMirQFodHRwczovL3d3dy5oYW5kZWxzYmxhdHQuY29tL3...</td>\n",
       "      <td>False</td>\n",
       "      <td>Thu, 24 Feb 2022 08:00:00 GMT</td>\n",
       "      <td>(2022, 2, 24, 8, 0, 0, 3, 55, 0)</td>\n",
       "      <td>&lt;a href=\"https://news.google.com/__i/rss/rd/ar...</td>\n",
       "      <td>{'type': 'text/html', 'language': None, 'base'...</td>\n",
       "      <td>{'href': 'https://www.handelsblatt.com', 'titl...</td>\n",
       "      <td>[]</td>\n",
       "      <td>AT</td>\n",
       "    </tr>\n",
       "    <tr>\n",
       "      <th>4</th>\n",
       "      <td>Ukraine-Krieg: Kantone bereiten sich auf Flüch...</td>\n",
       "      <td>{'type': 'text/plain', 'language': None, 'base...</td>\n",
       "      <td>[{'rel': 'alternate', 'type': 'text/html', 'hr...</td>\n",
       "      <td>https://news.google.com/__i/rss/rd/articles/CB...</td>\n",
       "      <td>CBMia2h0dHBzOi8vd3d3Lm56ei5jaC9zY2h3ZWl6L2Z1ZX...</td>\n",
       "      <td>False</td>\n",
       "      <td>Fri, 25 Feb 2022 08:00:00 GMT</td>\n",
       "      <td>(2022, 2, 25, 8, 0, 0, 4, 56, 0)</td>\n",
       "      <td>&lt;a href=\"https://news.google.com/__i/rss/rd/ar...</td>\n",
       "      <td>{'type': 'text/html', 'language': None, 'base'...</td>\n",
       "      <td>{'href': 'https://www.nzz.ch', 'title': 'Neue ...</td>\n",
       "      <td>[]</td>\n",
       "      <td>AT</td>\n",
       "    </tr>\n",
       "    <tr>\n",
       "      <th>...</th>\n",
       "      <td>...</td>\n",
       "      <td>...</td>\n",
       "      <td>...</td>\n",
       "      <td>...</td>\n",
       "      <td>...</td>\n",
       "      <td>...</td>\n",
       "      <td>...</td>\n",
       "      <td>...</td>\n",
       "      <td>...</td>\n",
       "      <td>...</td>\n",
       "      <td>...</td>\n",
       "      <td>...</td>\n",
       "      <td>...</td>\n",
       "    </tr>\n",
       "    <tr>\n",
       "      <th>3</th>\n",
       "      <td>Статус біженця в іншій країні: наслідки для ук...</td>\n",
       "      <td>{'type': 'text/plain', 'language': None, 'base...</td>\n",
       "      <td>[{'rel': 'alternate', 'type': 'text/html', 'hr...</td>\n",
       "      <td>https://news.google.com/__i/rss/rd/articles/CB...</td>\n",
       "      <td>CBMiJWh0dHBzOi8vdmVjaGlybml5Lmt5aXYudWEvbmV3cy...</td>\n",
       "      <td>False</td>\n",
       "      <td>Fri, 01 Apr 2022 07:00:00 GMT</td>\n",
       "      <td>(2022, 4, 1, 7, 0, 0, 4, 91, 0)</td>\n",
       "      <td>&lt;a href=\"https://news.google.com/__i/rss/rd/ar...</td>\n",
       "      <td>{'type': 'text/html', 'language': None, 'base'...</td>\n",
       "      <td>{'href': 'https://vechirniy.kyiv.ua', 'title':...</td>\n",
       "      <td>[]</td>\n",
       "      <td>UA</td>\n",
       "    </tr>\n",
       "    <tr>\n",
       "      <th>4</th>\n",
       "      <td>Виїзд українців до Канади. Як виїхати, отримат...</td>\n",
       "      <td>{'type': 'text/plain', 'language': None, 'base...</td>\n",
       "      <td>[{'rel': 'alternate', 'type': 'text/html', 'hr...</td>\n",
       "      <td>https://news.google.com/__i/rss/rd/articles/CB...</td>\n",
       "      <td>CBMikwFodHRwczovL2xpZmUubnYudWEvdWtyL3NvY2l1bS...</td>\n",
       "      <td>False</td>\n",
       "      <td>Fri, 01 Apr 2022 07:00:00 GMT</td>\n",
       "      <td>(2022, 4, 1, 7, 0, 0, 4, 91, 0)</td>\n",
       "      <td>&lt;a href=\"https://news.google.com/__i/rss/rd/ar...</td>\n",
       "      <td>{'type': 'text/html', 'language': None, 'base'...</td>\n",
       "      <td>{'href': 'https://life.nv.ua', 'title': 'НВ LI...</td>\n",
       "      <td>[]</td>\n",
       "      <td>UA</td>\n",
       "    </tr>\n",
       "    <tr>\n",
       "      <th>5</th>\n",
       "      <td>Як обміняти гривні в ЄС – у Єврокомісії запроп...</td>\n",
       "      <td>{'type': 'text/plain', 'language': None, 'base...</td>\n",
       "      <td>[{'rel': 'alternate', 'type': 'text/html', 'hr...</td>\n",
       "      <td>https://news.google.com/__i/rss/rd/articles/CB...</td>\n",
       "      <td>CBMiiAFodHRwczovL3d3dy5zbG92b2lkaWxvLnVhLzIwMj...</td>\n",
       "      <td>False</td>\n",
       "      <td>Fri, 01 Apr 2022 07:00:00 GMT</td>\n",
       "      <td>(2022, 4, 1, 7, 0, 0, 4, 91, 0)</td>\n",
       "      <td>&lt;a href=\"https://news.google.com/__i/rss/rd/ar...</td>\n",
       "      <td>{'type': 'text/html', 'language': None, 'base'...</td>\n",
       "      <td>{'href': 'https://www.slovoidilo.ua', 'title':...</td>\n",
       "      <td>[]</td>\n",
       "      <td>UA</td>\n",
       "    </tr>\n",
       "    <tr>\n",
       "      <th>6</th>\n",
       "      <td>Певні категорії внутрішніх переселенців в Укра...</td>\n",
       "      <td>{'type': 'text/plain', 'language': None, 'base...</td>\n",
       "      <td>[{'rel': 'alternate', 'type': 'text/html', 'hr...</td>\n",
       "      <td>https://news.google.com/__i/rss/rd/articles/CB...</td>\n",
       "      <td>CBMiZ2h0dHBzOi8vMXBsdXMxLnVhL25vdnlueS9ncm9zb3...</td>\n",
       "      <td>False</td>\n",
       "      <td>Fri, 01 Apr 2022 07:00:00 GMT</td>\n",
       "      <td>(2022, 4, 1, 7, 0, 0, 4, 91, 0)</td>\n",
       "      <td>&lt;a href=\"https://news.google.com/__i/rss/rd/ar...</td>\n",
       "      <td>{'type': 'text/html', 'language': None, 'base'...</td>\n",
       "      <td>{'href': 'https://1plus1.ua', 'title': 'Телека...</td>\n",
       "      <td>[]</td>\n",
       "      <td>UA</td>\n",
       "    </tr>\n",
       "    <tr>\n",
       "      <th>7</th>\n",
       "      <td>На кордоні між Мексикою та США різко зріс поті...</td>\n",
       "      <td>{'type': 'text/plain', 'language': None, 'base...</td>\n",
       "      <td>[{'rel': 'alternate', 'type': 'text/html', 'hr...</td>\n",
       "      <td>https://news.google.com/__i/rss/rd/articles/CB...</td>\n",
       "      <td>CBMiMWh0dHBzOi8vd3d3LnByYXZkYS5jb20udWEvbmV3cy...</td>\n",
       "      <td>False</td>\n",
       "      <td>Sat, 02 Apr 2022 07:00:00 GMT</td>\n",
       "      <td>(2022, 4, 2, 7, 0, 0, 5, 92, 0)</td>\n",
       "      <td>&lt;a href=\"https://news.google.com/__i/rss/rd/ar...</td>\n",
       "      <td>{'type': 'text/html', 'language': None, 'base'...</td>\n",
       "      <td>{'href': 'https://www.pravda.com.ua', 'title':...</td>\n",
       "      <td>[]</td>\n",
       "      <td>UA</td>\n",
       "    </tr>\n",
       "  </tbody>\n",
       "</table>\n",
       "<p>835 rows × 13 columns</p>\n",
       "</div>"
      ],
      "text/plain": [
       "                                                title  \\\n",
       "0   Ukrainische Flüchtlinge: Was an den Nachbarsgr...   \n",
       "1   Krieg in der Ukraine: Deutschland zur Aufnahme...   \n",
       "2   Krieg in der Ukraine: Wie sich Deutschland auf...   \n",
       "3   Ukraine-Krieg: Deutschland stellt sich auf Flü...   \n",
       "4   Ukraine-Krieg: Kantone bereiten sich auf Flüch...   \n",
       "..                                                ...   \n",
       "3   Статус біженця в іншій країні: наслідки для ук...   \n",
       "4   Виїзд українців до Канади. Як виїхати, отримат...   \n",
       "5   Як обміняти гривні в ЄС – у Єврокомісії запроп...   \n",
       "6   Певні категорії внутрішніх переселенців в Укра...   \n",
       "7   На кордоні між Мексикою та США різко зріс поті...   \n",
       "\n",
       "                                         title_detail  \\\n",
       "0   {'type': 'text/plain', 'language': None, 'base...   \n",
       "1   {'type': 'text/plain', 'language': None, 'base...   \n",
       "2   {'type': 'text/plain', 'language': None, 'base...   \n",
       "3   {'type': 'text/plain', 'language': None, 'base...   \n",
       "4   {'type': 'text/plain', 'language': None, 'base...   \n",
       "..                                                ...   \n",
       "3   {'type': 'text/plain', 'language': None, 'base...   \n",
       "4   {'type': 'text/plain', 'language': None, 'base...   \n",
       "5   {'type': 'text/plain', 'language': None, 'base...   \n",
       "6   {'type': 'text/plain', 'language': None, 'base...   \n",
       "7   {'type': 'text/plain', 'language': None, 'base...   \n",
       "\n",
       "                                                links  \\\n",
       "0   [{'rel': 'alternate', 'type': 'text/html', 'hr...   \n",
       "1   [{'rel': 'alternate', 'type': 'text/html', 'hr...   \n",
       "2   [{'rel': 'alternate', 'type': 'text/html', 'hr...   \n",
       "3   [{'rel': 'alternate', 'type': 'text/html', 'hr...   \n",
       "4   [{'rel': 'alternate', 'type': 'text/html', 'hr...   \n",
       "..                                                ...   \n",
       "3   [{'rel': 'alternate', 'type': 'text/html', 'hr...   \n",
       "4   [{'rel': 'alternate', 'type': 'text/html', 'hr...   \n",
       "5   [{'rel': 'alternate', 'type': 'text/html', 'hr...   \n",
       "6   [{'rel': 'alternate', 'type': 'text/html', 'hr...   \n",
       "7   [{'rel': 'alternate', 'type': 'text/html', 'hr...   \n",
       "\n",
       "                                                 link  \\\n",
       "0   https://news.google.com/__i/rss/rd/articles/CB...   \n",
       "1   https://news.google.com/__i/rss/rd/articles/CB...   \n",
       "2   https://news.google.com/__i/rss/rd/articles/CB...   \n",
       "3   https://news.google.com/__i/rss/rd/articles/CB...   \n",
       "4   https://news.google.com/__i/rss/rd/articles/CB...   \n",
       "..                                                ...   \n",
       "3   https://news.google.com/__i/rss/rd/articles/CB...   \n",
       "4   https://news.google.com/__i/rss/rd/articles/CB...   \n",
       "5   https://news.google.com/__i/rss/rd/articles/CB...   \n",
       "6   https://news.google.com/__i/rss/rd/articles/CB...   \n",
       "7   https://news.google.com/__i/rss/rd/articles/CB...   \n",
       "\n",
       "                                                   id guidislink  \\\n",
       "0   CBMiZ2h0dHBzOi8va3VyaWVyLmF0L3BvbGl0aWsvYXVzbG...      False   \n",
       "1   CBMidWh0dHBzOi8vd3d3LmZhei5uZXQvYWt0dWVsbC9wb2...      False   \n",
       "2   CBMigQFodHRwczovL3d3dy5ybmQuZGUvcG9saXRpay9rcm...      False   \n",
       "3   CBMirQFodHRwczovL3d3dy5oYW5kZWxzYmxhdHQuY29tL3...      False   \n",
       "4   CBMia2h0dHBzOi8vd3d3Lm56ei5jaC9zY2h3ZWl6L2Z1ZX...      False   \n",
       "..                                                ...        ...   \n",
       "3   CBMiJWh0dHBzOi8vdmVjaGlybml5Lmt5aXYudWEvbmV3cy...      False   \n",
       "4   CBMikwFodHRwczovL2xpZmUubnYudWEvdWtyL3NvY2l1bS...      False   \n",
       "5   CBMiiAFodHRwczovL3d3dy5zbG92b2lkaWxvLnVhLzIwMj...      False   \n",
       "6   CBMiZ2h0dHBzOi8vMXBsdXMxLnVhL25vdnlueS9ncm9zb3...      False   \n",
       "7   CBMiMWh0dHBzOi8vd3d3LnByYXZkYS5jb20udWEvbmV3cy...      False   \n",
       "\n",
       "                        published                  published_parsed  \\\n",
       "0   Thu, 24 Feb 2022 08:00:00 GMT  (2022, 2, 24, 8, 0, 0, 3, 55, 0)   \n",
       "1   Thu, 24 Feb 2022 08:00:00 GMT  (2022, 2, 24, 8, 0, 0, 3, 55, 0)   \n",
       "2   Thu, 24 Feb 2022 08:00:00 GMT  (2022, 2, 24, 8, 0, 0, 3, 55, 0)   \n",
       "3   Thu, 24 Feb 2022 08:00:00 GMT  (2022, 2, 24, 8, 0, 0, 3, 55, 0)   \n",
       "4   Fri, 25 Feb 2022 08:00:00 GMT  (2022, 2, 25, 8, 0, 0, 4, 56, 0)   \n",
       "..                            ...                               ...   \n",
       "3   Fri, 01 Apr 2022 07:00:00 GMT   (2022, 4, 1, 7, 0, 0, 4, 91, 0)   \n",
       "4   Fri, 01 Apr 2022 07:00:00 GMT   (2022, 4, 1, 7, 0, 0, 4, 91, 0)   \n",
       "5   Fri, 01 Apr 2022 07:00:00 GMT   (2022, 4, 1, 7, 0, 0, 4, 91, 0)   \n",
       "6   Fri, 01 Apr 2022 07:00:00 GMT   (2022, 4, 1, 7, 0, 0, 4, 91, 0)   \n",
       "7   Sat, 02 Apr 2022 07:00:00 GMT   (2022, 4, 2, 7, 0, 0, 5, 92, 0)   \n",
       "\n",
       "                                              summary  \\\n",
       "0   <a href=\"https://news.google.com/__i/rss/rd/ar...   \n",
       "1   <a href=\"https://news.google.com/__i/rss/rd/ar...   \n",
       "2   <a href=\"https://news.google.com/__i/rss/rd/ar...   \n",
       "3   <a href=\"https://news.google.com/__i/rss/rd/ar...   \n",
       "4   <a href=\"https://news.google.com/__i/rss/rd/ar...   \n",
       "..                                                ...   \n",
       "3   <a href=\"https://news.google.com/__i/rss/rd/ar...   \n",
       "4   <a href=\"https://news.google.com/__i/rss/rd/ar...   \n",
       "5   <a href=\"https://news.google.com/__i/rss/rd/ar...   \n",
       "6   <a href=\"https://news.google.com/__i/rss/rd/ar...   \n",
       "7   <a href=\"https://news.google.com/__i/rss/rd/ar...   \n",
       "\n",
       "                                       summary_detail  \\\n",
       "0   {'type': 'text/html', 'language': None, 'base'...   \n",
       "1   {'type': 'text/html', 'language': None, 'base'...   \n",
       "2   {'type': 'text/html', 'language': None, 'base'...   \n",
       "3   {'type': 'text/html', 'language': None, 'base'...   \n",
       "4   {'type': 'text/html', 'language': None, 'base'...   \n",
       "..                                                ...   \n",
       "3   {'type': 'text/html', 'language': None, 'base'...   \n",
       "4   {'type': 'text/html', 'language': None, 'base'...   \n",
       "5   {'type': 'text/html', 'language': None, 'base'...   \n",
       "6   {'type': 'text/html', 'language': None, 'base'...   \n",
       "7   {'type': 'text/html', 'language': None, 'base'...   \n",
       "\n",
       "                                               source sub_articles alpha2_code  \n",
       "0    {'href': 'https://kurier.at', 'title': 'KURIER'}           []          AT  \n",
       "1   {'href': 'https://www.faz.net', 'title': 'FAZ ...           []          AT  \n",
       "2      {'href': 'https://www.rnd.de', 'title': 'RND'}           []          AT  \n",
       "3   {'href': 'https://www.handelsblatt.com', 'titl...           []          AT  \n",
       "4   {'href': 'https://www.nzz.ch', 'title': 'Neue ...           []          AT  \n",
       "..                                                ...          ...         ...  \n",
       "3   {'href': 'https://vechirniy.kyiv.ua', 'title':...           []          UA  \n",
       "4   {'href': 'https://life.nv.ua', 'title': 'НВ LI...           []          UA  \n",
       "5   {'href': 'https://www.slovoidilo.ua', 'title':...           []          UA  \n",
       "6   {'href': 'https://1plus1.ua', 'title': 'Телека...           []          UA  \n",
       "7   {'href': 'https://www.pravda.com.ua', 'title':...           []          UA  \n",
       "\n",
       "[835 rows x 13 columns]"
      ]
     },
     "execution_count": 98,
     "metadata": {},
     "output_type": "execute_result"
    }
   ],
   "source": [
    "df"
   ]
  },
  {
   "cell_type": "code",
   "execution_count": 14,
   "metadata": {},
   "outputs": [
    {
     "data": {
      "text/plain": [
       "{'feed': {'meta': {'http-equiv': 'content-type',\n",
       "   'content': 'text/html; charset=utf-8'}},\n",
       " 'entries': []}"
      ]
     },
     "execution_count": 14,
     "metadata": {},
     "output_type": "execute_result"
    }
   ],
   "source": [
    "\n",
    "gn.search('Ukraine', from_=str(current_date), to_=str(current_date))"
   ]
  },
  {
   "cell_type": "code",
   "execution_count": 12,
   "metadata": {},
   "outputs": [
    {
     "data": {
      "text/html": [
       "<div>\n",
       "<style scoped>\n",
       "    .dataframe tbody tr th:only-of-type {\n",
       "        vertical-align: middle;\n",
       "    }\n",
       "\n",
       "    .dataframe tbody tr th {\n",
       "        vertical-align: top;\n",
       "    }\n",
       "\n",
       "    .dataframe thead th {\n",
       "        text-align: right;\n",
       "    }\n",
       "</style>\n",
       "<table border=\"1\" class=\"dataframe\">\n",
       "  <thead>\n",
       "    <tr style=\"text-align: right;\">\n",
       "      <th></th>\n",
       "    </tr>\n",
       "  </thead>\n",
       "  <tbody>\n",
       "  </tbody>\n",
       "</table>\n",
       "</div>"
      ],
      "text/plain": [
       "Empty DataFrame\n",
       "Columns: []\n",
       "Index: []"
      ]
     },
     "execution_count": 12,
     "metadata": {},
     "output_type": "execute_result"
    }
   ],
   "source": [
    "search = gn.search('Ukraine refugee', from_=str(current_date), to_=str(current_date))\n",
    "df_search = pd.DataFrame(search['entries'])\n",
    "df = df.append(df_search)"
   ]
  },
  {
   "cell_type": "code",
   "execution_count": 101,
   "metadata": {},
   "outputs": [
    {
     "name": "stderr",
     "output_type": "stream",
     "text": [
      "/Users/kiliansprenkamp/miniconda3/envs/pygooglenews/lib/python3.8/site-packages/dateparser/date_parser.py:37: PytzUsageWarning: The localize method is no longer necessary, as this time zone supports the fold attribute (PEP 495). For more details on migrating to a PEP 495-compliant implementation, see https://pytz-deprecation-shim.readthedocs.io/en/latest/migration.html\n",
      "  date_obj = stz.localize(date_obj)\n"
     ]
    }
   ],
   "source": [
    "gn = GoogleNews(country = 'DE', lang = 'de')\n",
    "search = gn.search('Ukraine + Flüchtlinge', from_=\"2022-02-24\", to_=\"2022-02-25\")\n",
    "# search['entries']"
   ]
  },
  {
   "cell_type": "code",
   "execution_count": 104,
   "metadata": {},
   "outputs": [
    {
     "data": {
      "text/plain": [
       "'Deutschland bereitet sich auf Flüchtlinge aus Ukraine vor - BR24'"
      ]
     },
     "execution_count": 104,
     "metadata": {},
     "output_type": "execute_result"
    }
   ],
   "source": [
    "pd.concat([pd.DataFrame(search['entries'])]).title[0]"
   ]
  },
  {
   "cell_type": "code",
   "execution_count": null,
   "metadata": {},
   "outputs": [],
   "source": [
    "countries = {\n",
    "    \"AT\": \"Ukraine + Flüchtlinge\", #Austria\n",
    "    \"BE\": \"Ukraine + Vluchtelingen\", #Belgium\n",
    "    \"BG\": \"Украйна + бежанци\", #Bulgaria\n",
    "    \"HR\": \"Ukrajina + izbjeglice\", #Croatia\n",
    "    \"CY\": \"Ουκρανία + πρόσφυγες\", #Cyprus\n",
    "    \"CZ\": \"Ukrajina + uprchlíci\", #Czechia\n",
    "    \"DK\": \"Ukraine + flygtninge\", #Denmark\n",
    "    \"EE\": \"Ukraina + põgenikud\", #Estonia\n",
    "    \"FI\": \"Ukraina + pakolaiset\", #Finland\n",
    "    \"FR\": \"Ukraine + réfugiés\", #France\n",
    "    \"DE\": \"Ukraine + Flüchtlinge\", #Germany\n",
    "    \"GR\": \"Ουκρανία + πρόσφυγες\", #Greece\n",
    "    \"HU\": \"Ukrajna + menekültek\", #Hungary\n",
    "    \"IE\": \"Ukraine + refugees\", #Ireland\n",
    "    \"IT\": \"Ucraina + rifugiati\", #Italy\n",
    "    \"LV\": \"Ukraina + bēgļi\", #Latvia\n",
    "    \"LT\": \"Ukraina + pabėgėliai\", #Lithuania\n",
    "    \"LU\": \"Ukraine + Flüchtlinge\", #Luxembourg\n",
    "    \"NL\": \"Ukraine + vluchtelingen\", #Netherlands\n",
    "    \"PL\": \"Ukraina + uchodźcy\", #Poland\n",
    "    \"PT\": \"Ucrânia + refugiados\", #Portugal\n",
    "    \"RO\": \"Ucraina + refugiați\", #Romania\n",
    "    \"SK\": \"Ukrajina + utečenci\", #Slovakia\n",
    "    \"SI\": \"Ukrajina + begunci\", #Slovenia\n",
    "    \"ES\": \"Ucrania + refugiados\", #Spain\n",
    "    \"SE\": \"Ukraine + flyktingar\", #Sweden\n",
    "    \"CH\": \"Ukraine + Flüchtlinge\", #Switzerland\n",
    "    \"NO\": \"Ukraine + flyktninger\", #Norway\n",
    "    \"GB\": \"Ukraine + refugees\", #United Kingdom\n",
    "    \"LI\": \"Ukraine + Flüchtlinge\", #Liechtenstein\n",
    "    \"IS\": \"Úkraína + flóttamenn\", #Iceland\n",
    "    \"MD\": \"Ucraina + refugiați\", #Moldova\n",
    "    \"UA\": \"Україна + біженці\" #Ukraine\n",
    "}"
   ]
  },
  {
   "cell_type": "code",
   "execution_count": 109,
   "metadata": {},
   "outputs": [
    {
     "name": "stdout",
     "output_type": "stream",
     "text": [
      "SRF News App\n",
      "Bei Google Play\n",
      "In der App öffnen\n",
      "\n",
      "  15 Prozent der Menschen aus der Ukraine mit Schutzstatus S haben eine Arbeit. 23 Prozent sind auf der Suche danach.\n",
      "\n",
      "\n",
      "\n",
      "Menschen, die aus der Ukraine in die Schweiz geflüchtet sind, erhalten den Schutzstatus S. Das heisst, sie dürfen hier arbeiten. Viele von ihnen haben tatsächlich eine Arbeit gefunden, würden aber gerne mehr arbeiten. Das zeigt eine Umfrage der Berner Fachhochschule. \n",
      "Die Umfrage wurde von der Berner Fachhochschule im Auftrag des Staatssekretariats für Migration (SEM) im Herbst 2022 durchgeführt. Online wurden 8000 16- bis 59-Jährige angeschrieben. Rund 2000 von ihnen beantworteten die Fragen.\n",
      "15 Prozent gaben in der Umfrage an, in der Schweiz eine Erwerbsarbeit zu haben. 36 Prozent waren auf Stellensuche, und noch einmal 36 Prozent zeigten sich an einer Arbeit in der Schweiz interessiert. 27 Prozent nehmen an einem Beschäftigungsprogramm oder an einer Ausbildung teil.\n",
      "Von den Personen, die bereits einer Arbeit nachgehen, würden drei Viertel gerne mehr arbeiten. Dazu wünschen sich die Schutzsuchenden Unterstützung, insbesondere bei der Arbeitssuche und beim Erlernen einer (Landes-)Sprache. \n",
      "Ukrainerinnen und Ukrainer mit Schutzstatus S verdienten im Mittel 4477 Franken im Monat. Es handelt sich um den durchschnittlichen standardisierten Monatslohn, also ein Zwölftel des Brutto-Jahreslohns für ein Vollpensum. Rund zwölf Prozent der Menschen mit Schutzstatus S verdienen über 5000 Franken. \n",
      "Das ergab eine Auswertung der Kantone für die Monate Juli bis September 2022. Eben diese Zahlen zeigen auch, dass die Schutzsuchenden im Mittel ein Arbeitspensum von 70 Prozent hatten. Knapp die Hälfte (46 Prozent) arbeiteten Vollzeit. 98 Prozent waren angestellt und zwei Prozent beruflich selbständig. \n",
      "Die allermeisten der Befragten sind gut ausgebildet. 94.5 Prozent gaben an, über eine nach-obligatorische Ausbildung wie zum Beispiel eine Berufslehre zu verfügen. 70 Prozent verfügen über einen tertiären Abschluss, beispielsweise ein Studium. \n",
      "Die unter den Menschen mit Status S am häufigsten vertretenen Berufsfelder sind «Wirtschaft, Verwaltung und Recht» sowie «Ingenieurwesen, verarbeitendes Gewerbe und Bau». Die am meisten vertretenen Sektoren sind derweil Gastgewerbe, Planung, Beratung und Informatik, Unterrichtwesen und Landwirtschaft.\n",
      "40 Prozent der Schutzsuchenden gaben an, Englisch gut zu verstehen und sich mündlich ausdrücken zu können. Wie das SEM schrieb, hätten Jüngere deutlich bessere Sprachkenntnisse als Ältere.\n",
      " \n",
      "\n",
      "                    SRF 4 News, 23.02.2023, 11 Uhr;                        apd/sda/spic;flal \n",
      "Lehre für Ukraine-Flüchtlinge\n",
      "Wirtschaft will Planungssicherheit für ukrainische Lernende\n",
      "Flüchtlinge aus der Ukraine\n",
      "Kein Kriegsende in Sicht: Schutzstatus S wird verlängert\n",
      "Debatte im Parlament\n",
      " SVP scheitert mit Vorstössen – Schutzstatus S bleibt unverändert\n",
      "Erhalten Sie alle News-Highlights direkt per Browser-Push und bleiben Sie immer auf dem Laufenden. Mehr \n",
      "\n",
      "                    Push-Benachrichtigungen sind kurze Hinweise auf Ihrem Bildschirm mit den wichtigsten Nachrichten - unabhängig davon, ob srf.ch gerade geöffnet ist oder nicht.\n",
      "                    Klicken Sie auf einen der Hinweise, so gelangen Sie zum entsprechenden Artikel. Sie können diese Mitteilungen jederzeit wieder deaktivieren.  Weniger \n",
      "\n",
      "\n",
      "                Sie haben diesen Hinweis zur Aktivierung von Browser-Push-Mitteilungen bereits mehrfach ausgeblendet. Wollen Sie diesen Hinweis permanent ausblenden oder in einigen Wochen nochmals daran erinnert werden?\n",
      "            \n",
      "Für die Registrierung benötigen wir zusätzliche Angaben zu Ihrer Person.\n",
      "Bitte melden Sie sich an, um einen Kommentar zu erfassen.\n",
      "{| foundExistingAccountText |} {| current_emailAddress |}.\n",
      "Einfach und unkompliziert mit Ihrem Social Media Account oder Ihrer Apple ID anmelden\n",
      "Geben Sie die E-Mail-Adresse Ihres Benutzerkontos an. Wir senden Ihnen anschliessend einen Link, über den Sie ein neues Passwort erstellen können.\n",
      "abbrechen\n",
      "Sie erhalten in Kürze eine E-Mail mit einem Link, um Ihr Passwort zu erneuern.\n",
      "Wenn Sie nach 10 Minuten kein E-Mail erhalten haben, prüfen Sie bitte Ihren SPAM Ordner und die Angabe Ihrer E-Mail-Adresse.\n",
      "Bitte melden Sie sich an, um einen Kommentar zu erfassen.\n",
      "Oh Hoppla! Es ist ein technischer Fehler aufgetreten. Bitte versuchen Sie es später noch ein Mal oder kontaktieren Sie unseren Kundendienst.\n",
      "Damit Sie einen Kommentar erfassen können, bitten wir Sie, Ihre Mobilnummer zu bestätigen. Wir senden Ihnen einen SMS-Code an die Mobilnummer .\n",
      "\n",
      "\n",
      "                    Es ist ein Fehler aufgetreten. Bitte versuchen Sie es erneut oder kontaktieren Sie unseren Kundendienst.\n",
      "                \n",
      "\n",
      "\n",
      "\n",
      "                    Es wurden bereits zu viele Codes für die Mobilnummer angefordert. Um Missbrauch zu verhindern, wird die Funktion blockiert.\n",
      "                \n",
      "\n",
      "\n",
      "\n",
      "                    Zu viele Versuche. Bitte fordern Sie einen neuen Code an oder kontaktieren Sie unseren Kundendienst.\n",
      "                \n",
      "\n",
      "\n",
      "SMS-Code anfordern\n",
      "\n",
      "\n",
      "Mobilnummer ändern\n",
      "\n",
      "Wir haben Ihnen einen SMS-Code an die Mobilnummer  gesendet. Bitte geben Sie den SMS-Code in das untenstehende Feld ein.\n",
      "\n",
      "Code erneut anfordern\n",
      "\n",
      "\n",
      "Mobilnummer ändern\n",
      "\n",
      "Zu viele Versuche. Bitte fordern Sie einen neuen Code an oder kontaktieren Sie unseren Kundendienst.\n",
      "\n",
      "                Diese Mobilnummer wird bereits verwendet. Bitte ändern Sie Ihre Mobilnummer oder wenden Sie sich an unseren Kundendienst.\n",
      "            \n",
      "\n",
      "Mobilnummer ändern\n",
      "\n",
      "Die maximale Anzahl an Codes für die angegebene Nummer ist erreicht. Es können keine weiteren Codes erstellt werden.\n",
      "\n",
      "            An diese Nummer senden wir Ihnen einen Aktivierungscode.\n",
      "        \n",
      "Wir haben Ihnen ein E-Mail an die Adresse {* emailAddressData *} gesendet. Prüfen Sie bitte Ihr E-Mail-Postfach und bestätigen Sie Ihren Account über den erhaltenen Aktivierungslink.\n",
      "Wenn Sie nach 10 Minuten kein E-Mail erhalten haben, prüfen Sie bitte Ihren SPAM-Ordner und die Angabe Ihrer E-Mail-Adresse.\n",
      "Benutzerdaten anpassen\n",
      "{* resendLink *}\n",
      "Mit einem SRF-Account erhalten Sie die Möglichkeit, Kommentare auf unserer Webseite sowie in der SRF App zu erfassen.\n",
      "Wir haben Ihnen ein E-Mail an die Adresse {* emailAddressData *} gesendet. Prüfen Sie bitte Ihr E-Mail-Postfach und bestätigen Sie Ihren Account über den erhaltenen Aktivierungslink.\n",
      "Wenn Sie nach 10 Minuten kein E-Mail erhalten haben, prüfen Sie bitte Ihren SPAM-Ordner und die Angabe Ihrer E-Mail-Adresse.\n",
      "Benutzerdaten anpassen\n",
      "{* resendLink *}\n",
      "Bitte prüfen Sie Ihr E-Mail-Postfach. Das Aktivierungs-E-Mail wurde versendet.\n",
      "Vielen Dank für die Verifizierung Ihrer E-Mail-Adresse.\n",
      "In dieser Ansicht können Sie Ihre Benutzerdaten verwalten.\n",
      "\n",
      "Passwort ändern\n",
      "\n",
      "\n",
      "Account deaktivieren\n",
      "\n",
      "Sie können Ihre Daten jederzeit in Ihrem Benutzerkonto einsehen. \n",
      "\n",
      "\n",
      "Benutzerdaten anpassen\n",
      "\n",
      "Definieren Sie ein neues Passwort für Ihren Account {* emailAddressData *}.\n",
      "abbrechen\n",
      "Definieren Sie ein neues Passwort für Ihren Account.\n",
      "Sie können sich nun im Artikel mit Ihrem neuen Passwort anmelden.\n",
      "Wir haben den Code zum Passwort neusetzen nicht erkannt. Bitte geben Sie Ihre E-Mail-Adresse erneut ein, damit wir Ihnen einen neuen Link zuschicken können.\n",
      "Sie erhalten in Kürze eine E-Mail mit einem Link, um Ihr Passwort zu erneuern.\n",
      "Wenn Sie nach 10 Minuten kein E-Mail erhalten haben, prüfen Sie bitte Ihren SPAM Ordner und die Angabe Ihrer E-Mail-Adresse.\n",
      "Ihr Account wird deaktiviert und kann von Ihnen nicht wieder aktiviert werden. Erfasste Kommentare werden nicht gelöscht.\n",
      "Wollen Sie Ihren Account wirklich deaktivieren?\n",
      "\n",
      "        Ihr Account wurde deaktiviert und kann nicht weiter verwendet werden.\n",
      "        Wenn Sie sich erneut für die Kommentarfunktion registrieren möchten, melden Sie sich bitte beim Kundendienst von SRF.\n",
      "    \n",
      "SRF Schweizer Radio und Fernsehen,Zweigniederlassung der Schweizerischen Radio- und Fernsehgesellschaft\n"
     ]
    }
   ],
   "source": [
    "import requests\n",
    "from bs4 import BeautifulSoup\n",
    "\n",
    "url = \"https://news.google.com/__i/rss/rd/articles/CBMigQFodHRwczovL3d3dy5zcmYuY2gvbmV3cy9zY2h3ZWl6L3N0dWRpZS1kZXItZmFjaGhvY2hzY2h1bGUtYmVybi11a3JhaW5pc2NoZS1mbHVlY2h0bGluZ2Utd3VlbnNjaGVuLXNpY2gtaW4tZGVyLXNjaHdlaXotbWVoci1hcmJlaXTSAQA?oc=5\"\n",
    "response = requests.get(url)\n",
    "soup = BeautifulSoup(response.content, \"html.parser\")\n",
    "p_tags = soup.find_all('p')\n",
    "text = \"\\n\".join(p.get_text() for p in p_tags)\n",
    "text = text.replace(\"\\n\", \" \")\n"
   ]
  },
  {
   "cell_type": "code",
   "execution_count": 110,
   "metadata": {},
   "outputs": [
    {
     "data": {
      "text/plain": [
       "'SRF News App Bei Google Play In der App öffnen    15 Prozent der Menschen aus der Ukraine mit Schutzstatus S haben eine Arbeit. 23 Prozent sind auf der Suche danach.    Menschen, die aus der Ukraine in die Schweiz geflüchtet sind, erhalten den Schutzstatus S. Das heisst, sie dürfen hier arbeiten. Viele von ihnen haben tatsächlich eine Arbeit gefunden, würden aber gerne mehr arbeiten. Das zeigt eine Umfrage der Berner Fachhochschule.  Die Umfrage wurde von der Berner Fachhochschule im Auftrag des Staatssekretariats für Migration (SEM) im Herbst 2022 durchgeführt. Online wurden 8000 16- bis 59-Jährige angeschrieben. Rund 2000 von ihnen beantworteten die Fragen. 15 Prozent gaben in der Umfrage an, in der Schweiz eine Erwerbsarbeit zu haben. 36 Prozent waren auf Stellensuche, und noch einmal 36 Prozent zeigten sich an einer Arbeit in der Schweiz interessiert. 27 Prozent nehmen an einem Beschäftigungsprogramm oder an einer Ausbildung teil. Von den Personen, die bereits einer Arbeit nachgehen, würden drei Viertel gerne mehr arbeiten. Dazu wünschen sich die Schutzsuchenden Unterstützung, insbesondere bei der Arbeitssuche und beim Erlernen einer (Landes-)Sprache.\\xa0 Ukrainerinnen und Ukrainer mit Schutzstatus S verdienten im Mittel 4477 Franken im Monat. Es handelt sich um den durchschnittlichen standardisierten Monatslohn, also ein Zwölftel des Brutto-Jahreslohns für ein Vollpensum. Rund zwölf Prozent der Menschen mit Schutzstatus S verdienen über 5000 Franken.  Das ergab eine Auswertung der Kantone für die Monate Juli bis September 2022. Eben diese Zahlen zeigen auch, dass die Schutzsuchenden im Mittel ein Arbeitspensum von 70 Prozent hatten. Knapp die Hälfte (46 Prozent) arbeiteten Vollzeit. 98 Prozent waren angestellt und zwei Prozent beruflich selbständig.  Die allermeisten der Befragten sind gut ausgebildet. 94.5 Prozent gaben an, über eine nach-obligatorische Ausbildung wie zum Beispiel eine Berufslehre zu verfügen. 70 Prozent verfügen über einen tertiären Abschluss, beispielsweise ein Studium.  Die unter den Menschen mit Status S am häufigsten vertretenen Berufsfelder sind «Wirtschaft, Verwaltung und Recht» sowie «Ingenieurwesen, verarbeitendes Gewerbe und Bau». Die am meisten vertretenen Sektoren sind derweil Gastgewerbe, Planung, Beratung und Informatik, Unterrichtwesen und Landwirtschaft. 40 Prozent der Schutzsuchenden gaben an, Englisch gut zu verstehen und sich mündlich ausdrücken zu können. Wie das SEM schrieb, hätten Jüngere deutlich bessere Sprachkenntnisse als Ältere. \\xa0                      SRF 4 News, 23.02.2023, 11 Uhr;                        apd/sda/spic;flal  Lehre für Ukraine-Flüchtlinge Wirtschaft will Planungssicherheit für ukrainische Lernende Flüchtlinge aus der Ukraine Kein Kriegsende in Sicht: Schutzstatus S wird verlängert Debatte im Parlament  SVP scheitert mit Vorstössen – Schutzstatus S bleibt unverändert Erhalten Sie alle News-Highlights direkt per Browser-Push und bleiben Sie immer auf dem Laufenden. Mehr                       Push-Benachrichtigungen sind kurze Hinweise auf Ihrem Bildschirm mit den wichtigsten Nachrichten - unabhängig davon, ob srf.ch gerade geöffnet ist oder nicht.                     Klicken Sie auf einen der Hinweise, so gelangen Sie zum entsprechenden Artikel. Sie können diese Mitteilungen jederzeit wieder deaktivieren.  Weniger                    Sie haben diesen Hinweis zur Aktivierung von Browser-Push-Mitteilungen bereits mehrfach ausgeblendet. Wollen Sie diesen Hinweis permanent ausblenden oder in einigen Wochen nochmals daran erinnert werden?              Für die Registrierung benötigen wir zusätzliche Angaben zu Ihrer Person. Bitte melden Sie sich an, um einen Kommentar zu erfassen. {| foundExistingAccountText |} {| current_emailAddress |}. Einfach und unkompliziert mit Ihrem Social Media Account oder Ihrer Apple ID anmelden Geben Sie die E-Mail-Adresse Ihres Benutzerkontos an. Wir senden Ihnen anschliessend einen Link, über den Sie ein neues Passwort erstellen können. abbrechen Sie erhalten in Kürze eine E-Mail mit einem Link, um Ihr Passwort zu erneuern. Wenn Sie nach 10 Minuten kein E-Mail erhalten haben, prüfen Sie bitte Ihren SPAM Ordner und die Angabe Ihrer E-Mail-Adresse. Bitte melden Sie sich an, um einen Kommentar zu erfassen. Oh Hoppla! Es ist ein technischer Fehler aufgetreten. Bitte versuchen Sie es später noch ein Mal oder kontaktieren Sie unseren Kundendienst. Damit Sie einen Kommentar erfassen können, bitten wir Sie, Ihre Mobilnummer zu bestätigen. Wir senden Ihnen einen SMS-Code an die Mobilnummer .                       Es ist ein Fehler aufgetreten. Bitte versuchen Sie es erneut oder kontaktieren Sie unseren Kundendienst.                                         Es wurden bereits zu viele Codes für die Mobilnummer angefordert. Um Missbrauch zu verhindern, wird die Funktion blockiert.                                         Zu viele Versuche. Bitte fordern Sie einen neuen Code an oder kontaktieren Sie unseren Kundendienst.                    SMS-Code anfordern   Mobilnummer ändern  Wir haben Ihnen einen SMS-Code an die Mobilnummer  gesendet. Bitte geben Sie den SMS-Code in das untenstehende Feld ein.  Code erneut anfordern   Mobilnummer ändern  Zu viele Versuche. Bitte fordern Sie einen neuen Code an oder kontaktieren Sie unseren Kundendienst.                  Diese Mobilnummer wird bereits verwendet. Bitte ändern Sie Ihre Mobilnummer oder wenden Sie sich an unseren Kundendienst.               Mobilnummer ändern  Die maximale Anzahl an Codes für die angegebene Nummer ist erreicht. Es können keine weiteren Codes erstellt werden.              An diese Nummer senden wir Ihnen einen Aktivierungscode.          Wir haben Ihnen ein E-Mail an die Adresse {* emailAddressData *} gesendet. Prüfen Sie bitte Ihr E-Mail-Postfach und bestätigen Sie Ihren Account über den erhaltenen Aktivierungslink. Wenn Sie nach 10 Minuten kein E-Mail erhalten haben, prüfen Sie bitte Ihren SPAM-Ordner und die Angabe Ihrer E-Mail-Adresse. Benutzerdaten anpassen {* resendLink *} Mit einem SRF-Account erhalten Sie die Möglichkeit, Kommentare auf unserer Webseite sowie in der SRF App zu erfassen. Wir haben Ihnen ein E-Mail an die Adresse {* emailAddressData *} gesendet. Prüfen Sie bitte Ihr E-Mail-Postfach und bestätigen Sie Ihren Account über den erhaltenen Aktivierungslink. Wenn Sie nach 10 Minuten kein E-Mail erhalten haben, prüfen Sie bitte Ihren SPAM-Ordner und die Angabe Ihrer E-Mail-Adresse. Benutzerdaten anpassen {* resendLink *} Bitte prüfen Sie Ihr E-Mail-Postfach. Das Aktivierungs-E-Mail wurde versendet. Vielen Dank für die Verifizierung Ihrer E-Mail-Adresse. In dieser Ansicht können Sie Ihre Benutzerdaten verwalten.  Passwort ändern   Account deaktivieren  Sie können Ihre Daten jederzeit in Ihrem Benutzerkonto einsehen.    Benutzerdaten anpassen  Definieren Sie ein neues Passwort für Ihren Account {* emailAddressData *}. abbrechen Definieren Sie ein neues Passwort für Ihren Account. Sie können sich nun im Artikel mit Ihrem neuen Passwort anmelden. Wir haben den Code zum Passwort neusetzen nicht erkannt. Bitte geben Sie Ihre E-Mail-Adresse erneut ein, damit wir Ihnen einen neuen Link zuschicken können. Sie erhalten in Kürze eine E-Mail mit einem Link, um Ihr Passwort zu erneuern. Wenn Sie nach 10 Minuten kein E-Mail erhalten haben, prüfen Sie bitte Ihren SPAM Ordner und die Angabe Ihrer E-Mail-Adresse. Ihr Account wird deaktiviert und kann von Ihnen nicht wieder aktiviert werden. Erfasste Kommentare werden nicht gelöscht. Wollen Sie Ihren Account wirklich deaktivieren?          Ihr Account wurde deaktiviert und kann nicht weiter verwendet werden.         Wenn Sie sich erneut für die Kommentarfunktion registrieren möchten, melden Sie sich bitte beim Kundendienst von SRF.      SRF Schweizer Radio und Fernsehen,Zweigniederlassung der Schweizerischen Radio- und Fernsehgesellschaft'"
      ]
     },
     "execution_count": 110,
     "metadata": {},
     "output_type": "execute_result"
    }
   ],
   "source": [
    "text"
   ]
  },
  {
   "cell_type": "code",
   "execution_count": 108,
   "metadata": {},
   "outputs": [
    {
     "data": {
      "text/plain": [
       "'                         Studie der Fachhochschule Bern - Ukrainische Flüchtlinge wünschen sich in der Schweiz mehr Arbeit - News - SRF                                                       Zum Inhalt springen    Header    Schweizer Radio und Fernsehen, zur Startseite       Rubriken   News   Sport   Meteo   Kultur   Dok   Wissen      TV-Menü  TV-Übersicht     TV     Radio-Menü  Audio-Übersicht     Audio     Hauptmenü/Suche  Hauptmenü/Suche     Menü             SRF News App Bei Google Play In der App öffnen   News-App bei Google Play herunterladen (Wird in einem neuen Fenster geöffnet.)  Laden    Diese Seite in der News-App öffnen  Öffnen    Diesen Banner schliessen              News      Schweiz     Aktueller Artikel             Inhalt  Studie der Fachhochschule Bern  -  Ukrainische Flüchtlinge wünschen sich in der Schweiz mehr Arbeit     15 Prozent der Menschen aus der Ukraine mit Schutzstatus S haben eine Arbeit. 23 Prozent sind auf der Suche danach.               Bei Facebook teilen (externer Link, Popup)   Bei Twitter teilen (externer Link, Popup)   Mit Whatsapp teilen            \\xa0              Menschen, die aus der Ukraine in die Schweiz geflüchtet sind, erhalten den Schutzstatus S. Das heisst, sie dürfen hier arbeiten. Viele von ihnen haben tatsächlich eine Arbeit gefunden, würden aber gerne mehr arbeiten. Das zeigt eine Umfrage der Berner Fachhochschule.     Umfrage bei 2000 Ukrainerinnen und Ukrainern    Box aufklappen Box zuklappen       Die Umfrage wurde von der Berner Fachhochschule im Auftrag des Staatssekretariats für Migration (SEM) im Herbst 2022 durchgeführt. Online wurden 8000 16- bis 59-Jährige angeschrieben. Rund 2000 von ihnen beantworteten die Fragen.    15 Prozent gaben in der Umfrage an, in der Schweiz eine Erwerbsarbeit zu haben. 36 Prozent waren auf Stellensuche, und noch einmal 36 Prozent zeigten sich an einer Arbeit in der Schweiz interessiert. 27 Prozent nehmen an einem Beschäftigungsprogramm oder an einer Ausbildung teil.   Legende:              Die Ukrainerin Olha Shymko war eine der ersten Personen mit Schutzstatus S. Dank diesem fand sie Arbeit in der Küche eines Restaurants.                             Keystone/Anthony Anex/Archiv                Von den Personen, die bereits einer Arbeit nachgehen, würden drei Viertel gerne mehr arbeiten. Dazu wünschen sich die Schutzsuchenden Unterstützung, insbesondere bei der Arbeitssuche und beim Erlernen einer (Landes-)Sprache.\\xa0 Fast die Hälfte arbeitet VollzeitUkrainerinnen und Ukrainer mit Schutzstatus S verdienten im Mittel 4477 Franken im Monat. Es handelt sich um den durchschnittlichen standardisierten Monatslohn, also ein Zwölftel des Brutto-Jahreslohns für ein Vollpensum. Rund zwölf Prozent der Menschen mit Schutzstatus S verdienen über 5000 Franken. Das ergab eine Auswertung der Kantone für die Monate Juli bis September 2022. Eben diese Zahlen zeigen auch, dass die Schutzsuchenden im Mittel ein Arbeitspensum von 70 Prozent hatten. Knapp die Hälfte (46 Prozent) arbeiteten Vollzeit. 98 Prozent waren angestellt und zwei Prozent beruflich selbständig.    Sieben von zehn mit einem HochschulabschlussDie allermeisten der Befragten sind gut ausgebildet. 94.5 Prozent gaben an, über eine nach-obligatorische Ausbildung wie zum Beispiel eine Berufslehre zu verfügen. 70 Prozent verfügen über einen tertiären Abschluss, beispielsweise ein Studium.   Die unter den Menschen mit Status S am häufigsten vertretenen Berufsfelder sind «Wirtschaft, Verwaltung und Recht» sowie «Ingenieurwesen, verarbeitendes Gewerbe und Bau». Die am meisten vertretenen Sektoren sind derweil Gastgewerbe, Planung, Beratung und Informatik, Unterrichtwesen und Landwirtschaft.40 Prozent der Schutzsuchenden gaben an, Englisch gut zu verstehen und sich mündlich ausdrücken zu können. Wie das SEM schrieb, hätten Jüngere deutlich bessere Sprachkenntnisse als Ältere.                 01:59      Video Archiv: Schutzstatus S für Menschen aus Ukraine wird verlängert                                                        Aus Tagesschau vom 09.11.2022.                                                    abspielen. Laufzeit 1 Minute 59 Sekunden.     \\xa0                        SRF 4 News, 23.02.2023, 11 Uhr;                        apd/sda/spic;flal                    Mehr zum Thema                                Hinweis auf einen verwandten Artikel:            Lehre für Ukraine-Flüchtlinge Wirtschaft will Planungssicherheit für ukrainische Lernende                   17.11.2022                       Mit Audio                             Hinweis auf einen verwandten Artikel:            Flüchtlinge aus der Ukraine Kein Kriegsende in Sicht: Schutzstatus S wird verlängert                   09.11.2022                       Mit Video                             Hinweis auf einen verwandten Artikel:            Debatte im Parlament  SVP scheitert mit Vorstössen – Schutzstatus S bleibt unverändert                   21.09.2022                       Mit Video                 News      Schweiz     Aktueller Artikel                            Jederzeit top informiert! Erhalten Sie alle News-Highlights direkt per Browser-Push und bleiben Sie immer auf dem Laufenden.     Jetzt nicht  Jetzt nicht    aktivieren  aktivieren              Schliessen       Jederzeit top informiert! Erhalten Sie alle News-Highlights direkt per Browser-Push und bleiben Sie immer auf dem Laufenden. Mehr                        Push-Benachrichtigungen sind kurze Hinweise auf Ihrem Bildschirm mit den wichtigsten Nachrichten - unabhängig davon, ob srf.ch gerade geöffnet ist oder nicht.                     Klicken Sie auf einen der Hinweise, so gelangen Sie zum entsprechenden Artikel. Sie können diese Mitteilungen jederzeit wieder deaktivieren.  Weniger     Push-Mitteilungen  aktivieren                      Sie haben diesen Hinweis zur Aktivierung von Browser-Push-Mitteilungen bereits mehrfach ausgeblendet. Wollen Sie diesen Hinweis permanent ausblenden oder in einigen Wochen nochmals daran erinnert werden?                 Ausblenden  Ausblenden      Später erinnern  Später erinnern            Meistgelesene Artikel         Nach links scrollen        Nach rechts scrollen                  Social Login Für die Registrierung benötigen wir zusätzliche Angaben zu Ihrer Person.     {* #socialRegistrationForm *}     {* firstName *}     {* lastName *}     {* emailAddress *}     {* displayName *}     {* mobile *}     {* addressCity *}        Ich bin einverstanden, dass meine Personendaten für das Kommentarlogin verarbeitet werden. Mehr Informationen finden Sie in der         Datenschutzerklärung.             Bitte stimmen Sie den Datenschutzbestimmungen zu.  Account erstellen     {* /socialRegistrationForm *}    Willkommen zurück Bitte melden Sie sich an, um einen Kommentar zu erfassen.     {* loginWidget *}     Einen anderen Account verwenden        {* mergeAccounts {\"custom\": true} *}                        {| rendered_current_photo |}                               {| current_displayName |}                 {| current_emailAddress |}                  {| foundExistingAccountText |} {| current_emailAddress |}.   {| moreInfoHoverText |}                         {| existing_displayName |} - {| existing_provider |} : {| existing_siteName |} {| existing_createdDate |}                                          {| moreInfoText |}                                         {| rendered_existing_provider_photo |}                                              {| existing_displayName |}                         {| existing_provider_emailAddress |}                       Created {| existing_createdDate |} at {| existing_siteName |}                            {| connectLegacyRadioText |}                                          {| createRadioText |} {| current_provider |}                     Validating                {| connect_button |}             {| create_button |}              Anmelden und Registrieren   Anmelden Registrieren   Anmelden         {* #signInForm *}         {* signInEmailAddress *}         {* currentPassword *}         Passwort vergessen? Anmelden         {* /signInForm *}         Einfach und unkompliziert mit Ihrem Social Media Account oder Ihrer Apple ID anmelden         {* loginWidget *}         Neues Passwort erstellen Geben Sie die E-Mail-Adresse Ihres Benutzerkontos an. Wir senden Ihnen anschliessend einen Link, über den Sie ein neues Passwort erstellen können.     {* #forgotPasswordForm *}     {* signInEmailAddress *}     Senden     {* /forgotPasswordForm *}     abbrechen    Neues Passwort erstellen Sie erhalten in Kürze eine E-Mail mit einem Link, um Ihr Passwort zu erneuern. Weiter Keine Nachricht erhalten? Wenn Sie nach 10 Minuten kein E-Mail erhalten haben, prüfen Sie bitte Ihren SPAM Ordner und die Angabe Ihrer E-Mail-Adresse.    Willkommen zurück Bitte melden Sie sich an, um einen Kommentar zu erfassen.     {* #signInForm *}     {* signInEmailAddress *}     {* currentPassword *}     Passwort vergessen? Anmelden     {* /signInForm *}     Einen anderen Account verwenden           Technischer Fehler Oh Hoppla! Es ist ein technischer Fehler aufgetreten. Bitte versuchen Sie es später noch ein Mal oder kontaktieren Sie unseren Kundendienst.   Mobilnummer bestätigen  Damit Sie einen Kommentar erfassen können, bitten wir Sie, Ihre Mobilnummer zu bestätigen. Wir senden Ihnen einen SMS-Code an die Mobilnummer .                       Es ist ein Fehler aufgetreten. Bitte versuchen Sie es erneut oder kontaktieren Sie unseren Kundendienst.                                         Es wurden bereits zu viele Codes für die Mobilnummer angefordert. Um Missbrauch zu verhindern, wird die Funktion blockiert.                                         Zu viele Versuche. Bitte fordern Sie einen neuen Code an oder kontaktieren Sie unseren Kundendienst.                    SMS-Code anfordern   Mobilnummer ändern    Wir haben Ihnen einen SMS-Code an die Mobilnummer  gesendet. Bitte geben Sie den SMS-Code in das untenstehende Feld ein.  SMS-Code  Bestätigen   Code erneut anfordern   Mobilnummer ändern    Zu viele Versuche. Bitte fordern Sie einen neuen Code an oder kontaktieren Sie unseren Kundendienst.                    Diese Mobilnummer wird bereits verwendet. Bitte ändern Sie Ihre Mobilnummer oder wenden Sie sich an unseren Kundendienst.              Schliessen  Mobilnummer ändern            Die maximale Anzahl an Codes für die angegebene Nummer ist erreicht. Es können keine weiteren Codes erstellt werden. Andere Mobilnummer verwenden     Mobilnummer ändern              An diese Nummer senden wir Ihnen einen Aktivierungscode.           Mobilnummer  Diese Mobilnummer wird bereits verwendet Speichern  Abbrechen   E-Mail bestätigen Wir haben Ihnen ein E-Mail an die Adresse {* emailAddressData *} gesendet. Prüfen Sie bitte Ihr E-Mail-Postfach und bestätigen Sie Ihren Account über den erhaltenen Aktivierungslink. Weiter Keine Nachricht erhalten? Wenn Sie nach 10 Minuten kein E-Mail erhalten haben, prüfen Sie bitte Ihren SPAM-Ordner und die Angabe Ihrer E-Mail-Adresse. Benutzerdaten anpassen {* resendLink *}     Registrieren und Anmelden   Anmelden Registrieren   Registrieren Mit einem SRF-Account erhalten Sie die Möglichkeit, Kommentare auf unserer Webseite sowie in der SRF App zu erfassen.         {* #registrationForm *}         {* firstName *}         {* lastName *}         {* emailAddress *}         {* displayName *}         {* mobile *}         {* addressCity *}         {* newPassword *}         {* newPasswordConfirm *}                            Ich bin einverstanden, dass meine Personendaten für das Kommentarlogin verarbeitet werden. Mehr Informationen finden Sie in der Datenschutzerklärung.                 Bitte stimmen Sie den Datenschutzbestimmungen zu.            {* captcha *}         Account erstellen         {* /registrationForm *}              E-Mail bestätigen Wir haben Ihnen ein E-Mail an die Adresse {* emailAddressData *} gesendet. Prüfen Sie bitte Ihr E-Mail-Postfach und bestätigen Sie Ihren Account über den erhaltenen Aktivierungslink. Weiter Keine Nachricht erhalten? Wenn Sie nach 10 Minuten kein E-Mail erhalten haben, prüfen Sie bitte Ihren SPAM-Ordner und die Angabe Ihrer E-Mail-Adresse. Benutzerdaten anpassen {* resendLink *}    Ihre Aktivierungs-E-Mail wurde versendet Bitte prüfen Sie Ihr E-Mail-Postfach. Das Aktivierungs-E-Mail wurde versendet. Anmelden    E-Mail-Adresse verifiziert Vielen Dank für die Verifizierung Ihrer E-Mail-Adresse.     Benutzerkonto In dieser Ansicht können Sie Ihre Benutzerdaten verwalten.         {* #editProfileForm *}         {* firstName *}         {* lastName *}         {* displayName *}         {* emailAddress *}         {* mobile *}         {* addressCity *}         {* captcha *}         Speichern         {* savedProfileMessage *}         {* /editProfileForm *}           Passwort ändern   Account deaktivieren    Benutzerdaten erfolgreich gespeichert Sie können Ihre Daten jederzeit in Ihrem Benutzerkonto einsehen.  Schliessen   Benutzerdaten anpassen      Passwort ändern Definieren Sie ein neues Passwort für Ihren Account {* emailAddressData *}.     {* #changePasswordForm *}     {* currentPassword *}     {* newPassword *}     {* newPasswordConfirm *}     Speichern     {* /changePasswordForm *}     abbrechen    Neues Passwort erstellen Definieren Sie ein neues Passwort für Ihren Account.     {* #changePasswordFormNoAuth *}     {* newPassword *}     {* newPasswordConfirm *}     Passwort Speichern     {* /changePasswordFormNoAuth *}    Passwort erfolgreich gespeichert Sie können sich nun im Artikel mit Ihrem neuen Passwort anmelden.    Ein neues Passwort erstellen Wir haben den Code zum Passwort neusetzen nicht erkannt. Bitte geben Sie Ihre E-Mail-Adresse erneut ein, damit wir Ihnen einen neuen Link zuschicken können.     {* #resetPasswordForm *}     {* signInEmailAddress *}     Senden     {* /resetPasswordForm *}    Neues Passwort erstellen Sie erhalten in Kürze eine E-Mail mit einem Link, um Ihr Passwort zu erneuern. Keine Nachricht erhalten? Wenn Sie nach 10 Minuten kein E-Mail erhalten haben, prüfen Sie bitte Ihren SPAM Ordner und die Angabe Ihrer E-Mail-Adresse.    Account deaktivieren Ihr Account wird deaktiviert und kann von Ihnen nicht wieder aktiviert werden. Erfasste Kommentare werden nicht gelöscht. Wollen Sie Ihren Account wirklich deaktivieren?     {* deactivateAccountForm *}      abbrechen     {* /deactivateAccountForm *}    Account deaktiviert          Ihr Account wurde deaktiviert und kann nicht weiter verwendet werden.         Wenn Sie sich erneut für die Kommentarfunktion registrieren möchten, melden Sie sich bitte beim Kundendienst von SRF.      Schliessen    Footer     Schweizer Radio und Fernsehen, zur Startseite      Suche       Suche, zeigt beim Tippen Resultate an      Suchen         Menü schliessen     Schliessen       Hauptnavigation   Rubriken    Home     News     Sport     Meteo     Kultur     Dok     Wissen    TV/Radio    Play SRF Mediathek     Audio & Podcasts     Play Suisse     TV-Programm     Radio-Programm     Archiv     Verkehr    Weitere Angebote    Kids     SRF school     Newsletter     Hallo SRF!     Über SRF            Radio SRF 1      Radio SRF 2 Kultur      Radio SRF 3      Radio SRF 4 News      Radio SRF Musikwelle      Radio SRF Virus      Radio Swiss Classic      Radio Swiss Jazz      Radio Swiss Pop       Metanavigation   SRF Apps Korrekturen Datenschutz Jobs Hilfe Kontakt Medien Impressum       SRF Schweizer Radio und Fernsehen,Zweigniederlassung der Schweizerischen Radio- und Fernsehgesellschaft   RTS RSI RTR SWI 3SAT         Inhalt vom Modal    Schliessen     Schliessen             Menü     Schweizer Radio und Fernsehen, zur Startseite      Suche       Suche, zeigt beim Tippen Resultate an      Suchen         Menü schliessen     Schliessen       Hauptnavigation   Rubriken    Home     News     Sport     Meteo     Kultur     Dok     Wissen    TV/Radio    Play SRF Mediathek     Audio & Podcasts     Play Suisse     TV-Programm     Radio-Programm     Archiv     Verkehr    Weitere Angebote    Kids     SRF school     Newsletter     Hallo SRF!     Über SRF            Radio SRF 1      Radio SRF 2 Kultur      Radio SRF 3      Radio SRF 4 News      Radio SRF Musikwelle      Radio SRF Virus      Radio Swiss Classic      Radio Swiss Jazz      Radio Swiss Pop              Umfrage in Modal   Schliessen              (Wird in einem neuen Fenster geöffnet.)                             '"
      ]
     },
     "execution_count": 108,
     "metadata": {},
     "output_type": "execute_result"
    }
   ],
   "source": [
    "import re\n",
    "#Define the regular expression pattern\n",
    "pattern = re.compile(r'(?<=Inhalt\\s)(.?)(?=\\s[0-9])')\n",
    "\n",
    "#Use the search method to find the first match\n",
    "match = pattern.search(text)\n",
    "\n",
    "#Extract the text from the match object\n",
    "cleaned_text = match.group(0)\n",
    "\n",
    "#Print the cleaned text\n",
    "print(cleaned_text)"
   ]
  },
  {
   "cell_type": "code",
   "execution_count": null,
   "metadata": {},
   "outputs": [],
   "source": [
    "!pip install regex==2022.3.2"
   ]
  },
  {
   "cell_type": "code",
   "execution_count": null,
   "metadata": {},
   "outputs": [],
   "source": []
  }
 ],
 "metadata": {
  "kernelspec": {
   "display_name": "pygooglenews",
   "language": "python",
   "name": "python3"
  },
  "language_info": {
   "codemirror_mode": {
    "name": "ipython",
    "version": 3
   },
   "file_extension": ".py",
   "mimetype": "text/x-python",
   "name": "python",
   "nbconvert_exporter": "python",
   "pygments_lexer": "ipython3",
   "version": "3.8.16"
  },
  "orig_nbformat": 4,
  "vscode": {
   "interpreter": {
    "hash": "5331a1af7e3ce8a1a6461472fbf5106622bde1e9d571dbb1ad7ec030f33f67a2"
   }
  }
 },
 "nbformat": 4,
 "nbformat_minor": 2
}
